{
 "cells": [
  {
   "cell_type": "code",
   "execution_count": 1,
   "metadata": {},
   "outputs": [
    {
     "name": "stdout",
     "output_type": "stream",
     "text": [
      "[[0.3 1. ]\n",
      " [0.5 0.2]\n",
      " [1.  0.4]]\n",
      "[[0.75]\n",
      " [0.82]\n",
      " [0.93]]\n"
     ]
    }
   ],
   "source": [
    "import numpy as np\n",
    "X = np.array([[3,5],[5,1],[10,2]], dtype=np.float)\n",
    "Y = np.array([[75],[82],[93]], dtype=np.float)\n",
    "\n",
    "# scale data to interval [0,1]\n",
    "\n",
    "X = X/np.amax(X, axis=0)\n",
    "Y = Y/100\n",
    "\n",
    "print(X)\n",
    "print(Y)"
   ]
  },
  {
   "cell_type": "code",
   "execution_count": 10,
   "metadata": {},
   "outputs": [
    {
     "data": {
      "image/png": "[encoded data removed]",
      "text/plain": [
       "<Figure size 432x288 with 1 Axes>"
      ]
     },
     "metadata": {},
     "output_type": "display_data"
    }
   ],
   "source": [
    "def sigmoid(z):\n",
    "    return 1/(1 + np.exp(-z))\n",
    "\n",
    "import matplotlib.pyplot as plt\n",
    "%matplotlib inline\n",
    "\n",
    "plt.plot(sigmoid(np.arange(-5,5, 0.01)))\n",
    "plt.grid(1)"
   ]
  },
  {
   "cell_type": "code",
   "execution_count": 15,
   "metadata": {},
   "outputs": [
    {
     "name": "stdout",
     "output_type": "stream",
     "text": [
      "[[-2.2272322   0.60257106 -2.01094876]\n",
      " [-0.50986885  1.37921747  0.53133226]]\n",
      "[[1.41302604]\n",
      " [0.77648353]\n",
      " [0.47792011]]\n",
      "yHat= [[0.76935076]\n",
      " [0.72285425]\n",
      " [0.68404968]]\n"
     ]
    }
   ],
   "source": [
    "def forwardPropagation(X, W1, W2):\n",
    "#     calculate value of hidden layer\n",
    "    z = sigmoid(np.dot(X,W1))\n",
    "#     calculate value of output and return\n",
    "    return sigmoid(np.dot(z, W2))\n",
    "    \n",
    "# initialize value of W1, W2\n",
    "W1 = np.random.randn(2,3)\n",
    "W2 = np.random.randn(3,1)\n",
    "\n",
    "print(W1)\n",
    "print(W2)\n",
    "print('yHat=', forwardPropagation(X,W1,W2))"
   ]
  },
  {
   "cell_type": "code",
   "execution_count": null,
   "metadata": {},
   "outputs": [],
   "source": []
  }
 ],
 "metadata": {
  "kernelspec": {
   "display_name": "Python 3",
   "language": "python",
   "name": "python3"
  },
  "language_info": {
   "codemirror_mode": {
    "name": "ipython",
    "version": 3
   },
   "file_extension": ".py",
   "mimetype": "text/x-python",
   "name": "python",
   "nbconvert_exporter": "python",
   "pygments_lexer": "ipython3",
   "version": "3.6.5"
  }
 },
 "nbformat": 4,
 "nbformat_minor": 2
}
