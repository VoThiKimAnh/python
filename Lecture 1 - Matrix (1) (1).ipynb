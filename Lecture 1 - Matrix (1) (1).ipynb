{
 "cells": [
  {
   "cell_type": "markdown",
   "metadata": {},
   "source": [
    "# Ma trận\n",
    "Tập hợp dữ liệu được lưu theo dòng và cột, mỗi phân tử có chỉ số dòng và cột\n",
    "\\begin{equation}A = [a_{i,j}] = \\begin{bmatrix}\n",
    "  a_{1,1} & a_{1,2} & a_{1,3} \\\\\n",
    "  a_{2,1} & a_{2,2} & a_{2,3} \\\\\n",
    "  a_{3,1} & a_{3,2} & a_{3,3} \\\\\n",
    "  a_{3,1} & a_{4,2} & a_{4,3}\n",
    " \\end{bmatrix}\n",
    "\\end{equation} \n",
    "\n",
    "+ Mỗi dòng hoặc cột được gọi là 1 vector.\n",
    "+ Chú y: vector là ma trận 1 dòng hoặc 1 cột, do đó nó có đầy đủ tính chất của ma trận.\n",
    "\n",
    "Trong Python, ta dùng thư viện *numpy.**array*** hoặc *numpy.**matrix*** để khai báo ma trận (mảng 2 chiều)"
   ]
  },
  {
   "cell_type": "code",
   "execution_count": 1,
   "metadata": {},
   "outputs": [
    {
     "name": "stdout",
     "output_type": "stream",
     "text": [
      "A = [[1 2 3]\n",
      " [4 5 6]\n",
      " [7 8 9]]\n",
      "M = [[1 2 3]\n",
      " [4 5 6]\n",
      " [7 8 9]]\n"
     ]
    }
   ],
   "source": [
    "import numpy as np\n",
    "\n",
    "A = np.array([[1,2,3],\n",
    "              [4,5,6],\n",
    "              [7,8,9]])\n",
    "print ('A =', A)\n",
    "\n",
    "M = np.matrix([[1,2,3],\n",
    "              [4,5,6],\n",
    "              [7,8,9]])\n",
    "print('M =', M)"
   ]
  },
  {
   "cell_type": "markdown",
   "metadata": {},
   "source": [
    "# Chuyển vị (transpose)\n",
    "Cho $A \\in \\mathbb{R}^{m \\times n}$, B là ma trận chuyển vị của A nếu $b_{ji}=a_{ij}$ \n",
    "\\begin{equation}A = \\begin{bmatrix}\n",
    "  a_{1,1} & ... & a_{1,n} \\\\\n",
    "  a_{2,1} & ... & a_{2,n} \\\\\n",
    "  ... & ... & ... \\\\\n",
    "  a_{m,1} & ... & a_{m,n}\n",
    " \\end{bmatrix}, B = \\begin{bmatrix}\n",
    "  a_{1,1} & a_{2,1}& ... & a_{m,1} \\\\\n",
    "  ... & ... & ... & ... \\\\\n",
    "  a_{1,n} & a_{2,n} & ... & a_{m,n}\n",
    " \\end{bmatrix}\n",
    "\\end{equation}\n",
    "\n",
    "Một cácch ngắn gọn, chuyển vị của một ma trận là một ma trận nhận được từ ma trận cũ thông qua phép phản chiếu gương qua đường chéo chính.\n",
    "\n",
    "Thông thường ta ký hiệu mà trận chuyển vị của $A \\in \\mathbb{R}^{m \\times n}$ là $A^T \\in ^{n \\times m}$. Nếu $A = A^T$ thì ta nói A là ma trận đối xứng (symmetric matrix).\n",
    "\n",
    "Trong numpy, ta lấy mà trận chuyển vị bằng cách gọi phép toán $T$ hoặc hàm *transpose()*\n"
   ]
  },
  {
   "cell_type": "code",
   "execution_count": 10,
   "metadata": {},
   "outputs": [
    {
     "name": "stdout",
     "output_type": "stream",
     "text": [
      "[[1 4 7]\n",
      " [2 5 8]\n",
      " [3 6 9]]  =  [[1 4 7]\n",
      " [2 5 8]\n",
      " [3 6 9]]\n",
      "M.T =  [[1 4 7]\n",
      " [2 5 8]\n",
      " [3 6 9]]\n"
     ]
    }
   ],
   "source": [
    "print(A.T, ' = ', A.transpose())\n",
    "print('M.T = ',M.T)"
   ]
  },
  {
   "cell_type": "markdown",
   "metadata": {},
   "source": [
    "# Phép nhân ma trận\n",
    "Cho $A \\in \\mathbb{R}^{m \\times n}$ và $B \\in \\mathbb{R}^{n \\times p}$, tích của 2 ma trận là $C = A \\times B \\in \\mathbb{R}^{m \\times p}$. Trong đó $c_{ij} = \\displaystyle\\sum_{k=1}^{n} a_{ik}b_{kj}$\n",
    "\n",
    "+ Phép nhân ma trận **không** có tính chất giao hoán $A*B \\neq B*A$\n",
    "+ Phép nhân có tính chất kết hợp $A * B * C = (A * B) * C = A * (B * C)$.\n",
    "+ Phép nhân có tính chất phân phối đối với phép cộng (vô hướng) $A * (B+C) = A * B + A * C$.\n",
    "+ Chuyển vị của 1 tích bằng tích các chuyển vị $(A*B)^T = B^T * A^T$\n",
    "\n",
    "Trong *numpy* ta dùng phép toán *** hoặc hàm *dot()**"
   ]
  },
  {
   "cell_type": "code",
   "execution_count": 22,
   "metadata": {},
   "outputs": [
    {
     "name": "stdout",
     "output_type": "stream",
     "text": [
      "[[ 30  36  42]\n",
      " [ 66  81  96]\n",
      " [102 126 150]]\n",
      "[[ 30  36  42]\n",
      " [ 66  81  96]\n",
      " [102 126 150]]\n"
     ]
    }
   ],
   "source": [
    "print(A * M)\n",
    "print(np.dot(A,M))"
   ]
  },
  {
   "cell_type": "markdown",
   "metadata": {},
   "source": [
    "# Phép toán vô hướng\n",
    "Trong machine learning, các phép toán cộng, trừ, nhân, chia (**vô hướng**) thường được dùng cho các ma trận cùng **kích thước**.\n",
    "\n",
    "Cho $A, B \\in \\mathbb{R}^{m \\times n}$, \n",
    "\n",
    "C = A + B $\\Leftrightarrow$ $c_{ij} = a_{ij} + b_{ij}$\n",
    "\n",
    "C = A - B $\\Leftrightarrow$ $c_{ij} = a_{ij} - b_{ij}$\n",
    "\n",
    "C = A * B $\\Leftrightarrow$ $c_{ij} = a_{ij} * b_{ij}$  (hay gọi là element-wise ***)\n",
    "\n",
    "C = A / B $\\Leftrightarrow$ $c_{ij} = a_{ij} / b_{ij}$"
   ]
  },
  {
   "cell_type": "code",
   "execution_count": 16,
   "metadata": {},
   "outputs": [
    {
     "name": "stdout",
     "output_type": "stream",
     "text": [
      "A+B= [[ 2  4  6]\n",
      " [ 8 10 12]\n",
      " [14 16 18]]\n",
      "A-B= [[0 0 0]\n",
      " [0 0 0]\n",
      " [0 0 0]]\n",
      "*** A*B= [[ 1  4  9]\n",
      " [16 25 36]\n",
      " [49 64 81]]\n",
      "A/B= [[1. 1. 1.]\n",
      " [1. 1. 1.]\n",
      " [1. 1. 1.]]\n"
     ]
    }
   ],
   "source": [
    "B = np.matrix([[1,2,3],\n",
    "              [4,5,6],\n",
    "              [7,8,9]])\n",
    "print('A+B=',A+B)\n",
    "print('A-B=',A-B)\n",
    "print('*** A*B=',np.multiply(A,B))\n",
    "print('A/B=',A/B)"
   ]
  },
  {
   "cell_type": "markdown",
   "metadata": {},
   "source": [
    "# Đường chéo chính và ma trận đơn vị\n",
    "+ Đường chéo chính (diagonal) của ma trận là tập hợp các giá trị có cùng chỉ số hàng và cột.\n",
    "Cho $A \\in \\mathbb{R}^{m \\times n}$ thì đường chéo chính của $A = \\{a_{11}, a_{22}, ..., a_{pp}\\}$ trong đó $p=min\\{n,m\\}$\n",
    "\n",
    "+ Ma trận đơn vị (identity matrix) là ma trận vuông $A \\in \\mathbb{R}^{n \\times n}$n trong đó các phân tử trên đường chéo chính bằng 1 và các giá trị khác bằng 0. Ta thường ký hiệu $I_{n}$ là ma trận đơn vị bậc n.\n",
    "\n",
    "\\begin{equation}I_{3} = \\begin{bmatrix}\n",
    "  1 & 0 & 0 \\\\\n",
    "  0 & 1 & 0 \\\\\n",
    "  0 & 0 & 1 \n",
    " \\end{bmatrix}, I_{4} = \\begin{bmatrix}\n",
    "  1 & 0 & 0 & 0\\\\\n",
    "  0 & 1 & 0 & 0\\\\\n",
    "  0 & 0 & 1 & 0\\\\\n",
    "  0 & 0 & 0 & 1\n",
    " \\end{bmatrix}\n",
    "\\end{equation}\n",
    "\n",
    "Chú ý: cho $A \\in \\mathbb{R}^{m \\times n}$, $B \\in \\mathbb{R}^{n \\times m}$ và $I_{n}$ thì\n",
    "$A * I = A$ và $I * B = B$\n",
    "\n",
    "Trong Python, để tạo ma trận đường chéo chính từ vector hoặc ma trận đơn vị như sau:"
   ]
  },
  {
   "cell_type": "code",
   "execution_count": 25,
   "metadata": {},
   "outputs": [
    {
     "name": "stdout",
     "output_type": "stream",
     "text": [
      "[[1 0 0 0 0]\n",
      " [0 2 0 0 0]\n",
      " [0 0 3 0 0]\n",
      " [0 0 0 4 0]\n",
      " [0 0 0 0 5]]\n",
      "[[1. 0. 0. 0.]\n",
      " [0. 1. 0. 0.]\n",
      " [0. 0. 1. 0.]\n",
      " [0. 0. 0. 1.]]\n"
     ]
    }
   ],
   "source": [
    "print(np.diag([1,2,3,4,5]))\n",
    "print(np.eye(4))  #hoặc print(np.identity(4))"
   ]
  },
  {
   "cell_type": "markdown",
   "metadata": {},
   "source": [
    "# Ma trận nghịch đảo\n",
    "Cho ma trận vuông $A \\in \\mathbb{R}^{n \\times n}$, nếu tồn tại mà trận $B \\in \\mathbb{R}^{n \\times n}$B sao cho $A * B = I$, thì ta nói A là ma trận khả nghịch (invertible) và B là ma trận nghịch đảo (inverse matrix). Nếu không tồn tại B thì ta nói A không khả nghịch (singular)\n",
    "\n",
    "+ Ta thường ký hiệu mà trận nghịch dảo của $A$ là $A^{-1}$.\n",
    "+ Ma trận nghịch đảo thường dùng để giải hệ phương trình $Ax = b$ với $x = A^{-1}b$.\n",
    "+ Nếu A không khả nghịch thì hệ phương trình $Ax=b$ vô nghiệm hoặc vô số nghiệm."
   ]
  },
  {
   "cell_type": "code",
   "execution_count": 38,
   "metadata": {},
   "outputs": [
    {
     "name": "stdout",
     "output_type": "stream",
     "text": [
      "A_inv =  [[-1.83333333  1.16666667 -0.16666667]\n",
      " [ 1.16666667 -0.83333333  0.33333333]\n",
      " [ 0.16666667  0.16666667 -0.16666667]]\n",
      "A1 * A_inv =  [[ 1.00000000e+00 -2.77555756e-17  0.00000000e+00]\n",
      " [ 2.49800181e-16  1.00000000e+00  0.00000000e+00]\n",
      " [ 2.77555756e-16  2.77555756e-16  1.00000000e+00]]\n"
     ]
    }
   ],
   "source": [
    "A1 = np.array([[1,2,3],[3,4,5],[4,6,2]])\n",
    "try:\n",
    "    A_inv = np.linalg.inv(A1)\n",
    "except np.linalg.LinAlgError:\n",
    "    # Not invertible.\n",
    "    print('Cannot inverse A')\n",
    "else:\n",
    "    print('A_inv = ', A_inv)\n",
    "    print('A1 * A_inv = ',np.dot(A1, A_inv))"
   ]
  },
  {
   "cell_type": "markdown",
   "metadata": {},
   "source": [
    "# Chéo hoá ma trận\n",
    "Quá trình phân tích một ma trận thành tích của các ma trận có các đại lượng nhỏ hơn gọi là chéo hoá ma trận hoặc phân dã giá trị riêng/vector riêng (diagonalization hoặc eigendecomposition).\n",
    "\n",
    "Cho ma trận $A$, ta có thể viết A dưới dạng ma trận chéo hoá như sau: \n",
    "\n",
    "\\begin{equation}A = X * V * X^{-1} \\end{equation}\n",
    "\n",
    "Trong đó X là ma trận của các vertor cột độc lập tuyến tính và V là ma trận đường chéo của các giá trị riêng (eigenvalues).\n",
    "\n",
    "+ Cho ma trận $A \\in \\mathbb{R}^{n \\times n}$, $x \\in \\mathbb{R}^{n}$ ($x \\neq 0$) và một số vô hướng $\\lambda$. Nếu $Ax = \\lambda x$ thì $x$ là vector riêng và $\\lambda$ là giá trị riêng của $A$."
   ]
  },
  {
   "cell_type": "code",
   "execution_count": 43,
   "metadata": {},
   "outputs": [
    {
     "name": "stdout",
     "output_type": "stream",
     "text": [
      "vector of eigenvalues:\n",
      "[10.38516481 -0.38516481 -3.        ]\n",
      "matrix of eigenvectors:\n",
      "[[-0.35135428 -0.83547559 -0.40824829]\n",
      " [-0.67396483  0.5491765  -0.40824829]\n",
      " [-0.64986273  0.01963946  0.81649658]]\n",
      "inverse matrix\n",
      "[[-0.46475134 -0.68645305 -0.57560219]\n",
      " [-0.83048564  0.56226615 -0.13410974]\n",
      " [-0.34992711 -0.55988337  0.76983963]]\n",
      "composition of them = (orginal matrix)\n",
      "[[1. 2. 3.]\n",
      " [3. 4. 5.]\n",
      " [4. 6. 2.]]\n"
     ]
    }
   ],
   "source": [
    "v,x = np.linalg.eig(A1)\n",
    "print('vector of eigenvalues:')\n",
    "print(v)\n",
    "print('matrix of eigenvectors:')\n",
    "print(x)\n",
    "print('inverse matrix')\n",
    "print(np.linalg.inv(x))\n",
    "print('composition of them = (original matrix)')\n",
    "print(np.dot(np.dot(x, np.diag(v)),np.linalg.inv(x)))"
   ]
  },
  {
   "cell_type": "markdown",
   "metadata": {},
   "source": [
    "# Ví dụ (xử lý ảnh)"
   ]
  },
  {
   "cell_type": "code",
   "execution_count": 2,
   "metadata": {},
   "outputs": [
    {
     "data": {
      "text/plain": [
       "<matplotlib.image.AxesImage at 0x200d1fead68>"
      ]
     },
     "execution_count": 2,
     "metadata": {},
     "output_type": "execute_result"
    },
    {
     "data": {
      "image/png": "[encoded data removed]",
      "text/plain": [
       "<Figure size 432x288 with 1 Axes>"
      ]
     },
     "metadata": {},
     "output_type": "display_data"
    }
   ],
   "source": [
    "# from PIL import Image #use PIL package to read image\n",
    "import matplotlib.image as image\n",
    "import matplotlib.pyplot as plt\n",
    "%matplotlib inline\n",
    "#define kernel\n",
    "k = np.array([[-1,-1,-1],\n",
    "              [-1,8,-1],\n",
    "              [-1,-1,-1]], dtype=np.int8)\n",
    "#read image to array/matrix\n",
    "img = image.imread('download.jpg')\n",
    "# show image\n",
    "# plt.imshow(img)\n",
    "\n",
    "#convert color image to grey\n",
    "img_grey = (img[:,:,:1] + img[:,:,1:2] + img[:,:,2:3]) / 3\n",
    "# plt.imshow(img_grey[:,:,0])\n",
    "\n",
    "#img_grey now has shape (h,w,1)\n",
    "h,w,d = img_grey.shape\n",
    "\n",
    "#create a zeros-matrix to store processing image\n",
    "r = np.zeros((h,w))\n",
    "\n",
    "#convolute grey_image with kernel\n",
    "for i in range(h-2):\n",
    "    for j in range(w-2):\n",
    "        #slice 3x3 matrix then convolute with kernel\n",
    "        r[i + 1, j + 1] = max(0, np.sum(np.multiply(img_grey[i:i+3,j:j+3], k)))\n",
    "\n",
    "# show processed image\n",
    "plt.imshow(r)"
   ]
  },
  {
   "cell_type": "code",
   "execution_count": null,
   "metadata": {},
   "outputs": [],
   "source": []
  }
 ],
 "metadata": {
  "kernelspec": {
   "display_name": "Python 3",
   "language": "python",
   "name": "python3"
  },
  "language_info": {
   "codemirror_mode": {
    "name": "ipython",
    "version": 3
   },
   "file_extension": ".py",
   "mimetype": "text/x-python",
   "name": "python",
   "nbconvert_exporter": "python",
   "pygments_lexer": "ipython3",
   "version": "3.6.5"
  }
 },
 "nbformat": 4,
 "nbformat_minor": 2
}
