{
  "nbformat": 4,
  "nbformat_minor": 0,
  "metadata": {
    "kernelspec": {
      "display_name": "Python 3",
      "language": "python",
      "name": "python3"
    },
    "language_info": {
      "codemirror_mode": {
        "name": "ipython",
        "version": 3
      },
      "file_extension": ".py",
      "mimetype": "text/x-python",
      "name": "python",
      "nbconvert_exporter": "python",
      "pygments_lexer": "ipython3",
      "version": "3.7.3"
    },
    "colab": {
      "name": "07_Oct_2019.ipynb",
      "provenance": [],
      "toc_visible": true,
      "include_colab_link": true
    }
  },
  "cells": [
    {
      "cell_type": "markdown",
      "metadata": {
        "id": "view-in-github",
        "colab_type": "text"
      },
      "source": [
        "<a href=\"https://colab.research.google.com/github/VoThiKimAnh/python/blob/master/07_Oct_2019.ipynb\" target=\"_parent\"><img src=\"https://colab.research.google.com/assets/colab-badge.svg\" alt=\"Open In Colab\"/></a>"
      ]
    },
    {
      "cell_type": "markdown",
      "metadata": {
        "id": "dqvj-85wOoo0",
        "colab_type": "text"
      },
      "source": [
        "## 07/10/2019"
      ]
    },
    {
      "cell_type": "code",
      "metadata": {
        "id": "6VEEiQKJOoo1",
        "colab_type": "code",
        "colab": {}
      },
      "source": [
        "# Find a and b from: ax+b=y, from Huynh Nguyen (Ngoc)"
      ],
      "execution_count": 0,
      "outputs": []
    },
    {
      "cell_type": "code",
      "metadata": {
        "id": "E3uvI_PrOoo5",
        "colab_type": "code",
        "colab": {
          "base_uri": "https://localhost:8080/",
          "height": 51
        },
        "outputId": "9ceeb20b-dec7-40d9-ca7d-720375524d43"
      },
      "source": [
        "#y=[[a,b]] [[x],[1]] = ax+b\n",
        "import numpy as np\n",
        "#y=2x+8, x=1\n",
        "a=2\n",
        "b=8\n",
        "x=1\n",
        "ab=np.reshape([a,b],[1,2])\n",
        "x1=np.reshape([x,1],[2,1])\n",
        "print(np.multiply(ab,x1))"
      ],
      "execution_count": 12,
      "outputs": [
        {
          "output_type": "stream",
          "text": [
            "[[2 8]\n",
            " [2 8]]\n"
          ],
          "name": "stdout"
        }
      ]
    },
    {
      "cell_type": "markdown",
      "metadata": {
        "id": "p_AXmSBfOoo_",
        "colab_type": "text"
      },
      "source": [
        "HOMEWORKS\n",
        "0. Again: compute a,b from y=ax+b\n",
        "1. Prove that y=ax+b is a linear function\n",
        "2. A reading "
      ]
    },
    {
      "cell_type": "code",
      "metadata": {
        "id": "wse_CYYSOopA",
        "colab_type": "code",
        "colab": {
          "base_uri": "https://localhost:8080/",
          "height": 320
        },
        "outputId": "0f036521-b193-4c5e-f9d4-a64867ed8f94"
      },
      "source": [
        "import matplotlib.pyplot as plt\n",
        "#plot y=x/(1-x)\n",
        "x=list(np.arange(-100,0))\n",
        "x=x+list(np.arange(1,100))\n",
        "# print(x)\n",
        "y=[i/(1-i) for i in x]\n",
        "plt.plot(x,y)"
      ],
      "execution_count": 13,
      "outputs": [
        {
          "output_type": "stream",
          "text": [
            "/usr/local/lib/python3.6/dist-packages/ipykernel_launcher.py:6: RuntimeWarning: divide by zero encountered in long_scalars\n",
            "  \n"
          ],
          "name": "stderr"
        },
        {
          "output_type": "execute_result",
          "data": {
            "text/plain": [
              "[<matplotlib.lines.Line2D at 0x7f4512afb748>]"
            ]
          },
          "metadata": {
            "tags": []
          },
          "execution_count": 13
        },
        {
          "output_type": "display_data",
          "data": {
            "image/png": "[encoded data removed]",
            "text/plain": [
              "<Figure size 432x288 with 1 Axes>"
            ]
          },
          "metadata": {
            "tags": []
          }
        }
      ]
    },
    {
      "cell_type": "code",
      "metadata": {
        "id": "FYd2xMJsOopF",
        "colab_type": "code",
        "colab": {
          "base_uri": "https://localhost:8080/",
          "height": 286
        },
        "outputId": "ed4b1215-b263-496f-e675-74c33f921435"
      },
      "source": [
        "#Logistics regression\n",
        "import matplotlib.pyplot as plt\n",
        "#plot y=x/(1-x)\n",
        "x=np.arange(-100,100)\n",
        "y=[np.exp(i)/(1+np.exp(i)) for i in x]\n",
        "plt.plot(x,y)"
      ],
      "execution_count": 14,
      "outputs": [
        {
          "output_type": "execute_result",
          "data": {
            "text/plain": [
              "[<matplotlib.lines.Line2D at 0x7f451029b160>]"
            ]
          },
          "metadata": {
            "tags": []
          },
          "execution_count": 14
        },
        {
          "output_type": "display_data",
          "data": {
            "image/png": "[encoded data removed]",
            "text/plain": [
              "<Figure size 432x288 with 1 Axes>"
            ]
          },
          "metadata": {
            "tags": []
          }
        }
      ]
    },
    {
      "cell_type": "code",
      "metadata": {
        "id": "uv6Umo4COopH",
        "colab_type": "code",
        "colab": {
          "base_uri": "https://localhost:8080/",
          "height": 286
        },
        "outputId": "0d292bd8-902c-40dc-dc20-0ee6fb771ce6"
      },
      "source": [
        "#Logistics regression\n",
        "import matplotlib.pyplot as plt\n",
        "#plot y=x/(1-x)\n",
        "x=np.arange(-100,100)\n",
        "y=[1/(1+np.exp(-i)) for i in x]\n",
        "plt.plot(x,y)"
      ],
      "execution_count": 15,
      "outputs": [
        {
          "output_type": "execute_result",
          "data": {
            "text/plain": [
              "[<matplotlib.lines.Line2D at 0x7f45101fcf98>]"
            ]
          },
          "metadata": {
            "tags": []
          },
          "execution_count": 15
        },
        {
          "output_type": "display_data",
          "data": {
            "image/png": "[encoded data removed]",
            "text/plain": [
              "<Figure size 432x288 with 1 Axes>"
            ]
          },
          "metadata": {
            "tags": []
          }
        }
      ]
    },
    {
      "cell_type": "code",
      "metadata": {
        "id": "X96-kiMJOopL",
        "colab_type": "code",
        "colab": {
          "base_uri": "https://localhost:8080/",
          "height": 394
        },
        "outputId": "db2af3d3-8d5f-43a1-9847-8421e2a8ecd1"
      },
      "source": [
        "import pandas as pd\n",
        "path=r\"/content/Train.csv\"\n",
        "data=pd.read_csv(path)\n",
        "data.head()"
      ],
      "execution_count": 16,
      "outputs": [
        {
          "output_type": "stream",
          "text": [
            "/usr/local/lib/python3.6/dist-packages/IPython/core/interactiveshell.py:2718: DtypeWarning: Columns (11,13,28,29,30,31,33,35,36,37,38,39,40,41,42,43,44,45,46,47,51,52) have mixed types. Specify dtype option on import or set low_memory=False.\n",
            "  interactivity=interactivity, compiler=compiler, result=result)\n"
          ],
          "name": "stderr"
        },
        {
          "output_type": "execute_result",
          "data": {
            "text/html": [
              "<div>\n",
              "<style scoped>\n",
              "    .dataframe tbody tr th:only-of-type {\n",
              "        vertical-align: middle;\n",
              "    }\n",
              "\n",
              "    .dataframe tbody tr th {\n",
              "        vertical-align: top;\n",
              "    }\n",
              "\n",
              "    .dataframe thead th {\n",
              "        text-align: right;\n",
              "    }\n",
              "</style>\n",
              "<table border=\"1\" class=\"dataframe\">\n",
              "  <thead>\n",
              "    <tr style=\"text-align: right;\">\n",
              "      <th></th>\n",
              "      <th>SalesID</th>\n",
              "      <th>SalePrice</th>\n",
              "      <th>MachineID</th>\n",
              "      <th>ModelID</th>\n",
              "      <th>datasource</th>\n",
              "      <th>auctioneerID</th>\n",
              "      <th>YearMade</th>\n",
              "      <th>MachineHoursCurrentMeter</th>\n",
              "      <th>UsageBand</th>\n",
              "      <th>saledate</th>\n",
              "      <th>fiModelDesc</th>\n",
              "      <th>fiBaseModel</th>\n",
              "      <th>fiSecondaryDesc</th>\n",
              "      <th>fiModelSeries</th>\n",
              "      <th>fiModelDescriptor</th>\n",
              "      <th>ProductSize</th>\n",
              "      <th>fiProductClassDesc</th>\n",
              "      <th>state</th>\n",
              "      <th>ProductGroup</th>\n",
              "      <th>ProductGroupDesc</th>\n",
              "      <th>Drive_System</th>\n",
              "      <th>Enclosure</th>\n",
              "      <th>Forks</th>\n",
              "      <th>Pad_Type</th>\n",
              "      <th>Ride_Control</th>\n",
              "      <th>Stick</th>\n",
              "      <th>Transmission</th>\n",
              "      <th>Turbocharged</th>\n",
              "      <th>Blade_Extension</th>\n",
              "      <th>Blade_Width</th>\n",
              "      <th>Enclosure_Type</th>\n",
              "      <th>Engine_Horsepower</th>\n",
              "      <th>Hydraulics</th>\n",
              "      <th>Pushblock</th>\n",
              "      <th>Ripper</th>\n",
              "      <th>Scarifier</th>\n",
              "      <th>Tip_Control</th>\n",
              "      <th>Tire_Size</th>\n",
              "      <th>Coupler</th>\n",
              "      <th>Coupler_System</th>\n",
              "      <th>Grouser_Tracks</th>\n",
              "      <th>Hydraulics_Flow</th>\n",
              "      <th>Track_Type</th>\n",
              "      <th>Undercarriage_Pad_Width</th>\n",
              "      <th>Stick_Length</th>\n",
              "      <th>Thumb</th>\n",
              "      <th>Pattern_Changer</th>\n",
              "      <th>Grouser_Type</th>\n",
              "      <th>Backhoe_Mounting</th>\n",
              "      <th>Blade_Type</th>\n",
              "      <th>Travel_Controls</th>\n",
              "      <th>Differential_Type</th>\n",
              "      <th>Steering_Controls</th>\n",
              "    </tr>\n",
              "  </thead>\n",
              "  <tbody>\n",
              "    <tr>\n",
              "      <th>0</th>\n",
              "      <td>1139246</td>\n",
              "      <td>66000</td>\n",
              "      <td>999089</td>\n",
              "      <td>3157</td>\n",
              "      <td>121</td>\n",
              "      <td>3</td>\n",
              "      <td>2004</td>\n",
              "      <td>68.0</td>\n",
              "      <td>Low</td>\n",
              "      <td>11/16/2006 0:00</td>\n",
              "      <td>521D</td>\n",
              "      <td>521</td>\n",
              "      <td>D</td>\n",
              "      <td>NaN</td>\n",
              "      <td>NaN</td>\n",
              "      <td>NaN</td>\n",
              "      <td>Wheel Loader - 110.0 to 120.0 Horsepower</td>\n",
              "      <td>Alabama</td>\n",
              "      <td>WL</td>\n",
              "      <td>Wheel Loader</td>\n",
              "      <td>NaN</td>\n",
              "      <td>EROPS w AC</td>\n",
              "      <td>None or Unspecified</td>\n",
              "      <td>NaN</td>\n",
              "      <td>None or Unspecified</td>\n",
              "      <td>NaN</td>\n",
              "      <td>NaN</td>\n",
              "      <td>NaN</td>\n",
              "      <td>NaN</td>\n",
              "      <td>NaN</td>\n",
              "      <td>NaN</td>\n",
              "      <td>NaN</td>\n",
              "      <td>2 Valve</td>\n",
              "      <td>NaN</td>\n",
              "      <td>NaN</td>\n",
              "      <td>NaN</td>\n",
              "      <td>NaN</td>\n",
              "      <td>None or Unspecified</td>\n",
              "      <td>None or Unspecified</td>\n",
              "      <td>NaN</td>\n",
              "      <td>NaN</td>\n",
              "      <td>NaN</td>\n",
              "      <td>NaN</td>\n",
              "      <td>NaN</td>\n",
              "      <td>NaN</td>\n",
              "      <td>NaN</td>\n",
              "      <td>NaN</td>\n",
              "      <td>NaN</td>\n",
              "      <td>NaN</td>\n",
              "      <td>NaN</td>\n",
              "      <td>NaN</td>\n",
              "      <td>Standard</td>\n",
              "      <td>Conventional</td>\n",
              "    </tr>\n",
              "    <tr>\n",
              "      <th>1</th>\n",
              "      <td>1139248</td>\n",
              "      <td>57000</td>\n",
              "      <td>117657</td>\n",
              "      <td>77</td>\n",
              "      <td>121</td>\n",
              "      <td>3</td>\n",
              "      <td>1996</td>\n",
              "      <td>4640.0</td>\n",
              "      <td>Low</td>\n",
              "      <td>3/26/2004 0:00</td>\n",
              "      <td>950FII</td>\n",
              "      <td>950</td>\n",
              "      <td>F</td>\n",
              "      <td>II</td>\n",
              "      <td>NaN</td>\n",
              "      <td>Medium</td>\n",
              "      <td>Wheel Loader - 150.0 to 175.0 Horsepower</td>\n",
              "      <td>North Carolina</td>\n",
              "      <td>WL</td>\n",
              "      <td>Wheel Loader</td>\n",
              "      <td>NaN</td>\n",
              "      <td>EROPS w AC</td>\n",
              "      <td>None or Unspecified</td>\n",
              "      <td>NaN</td>\n",
              "      <td>None or Unspecified</td>\n",
              "      <td>NaN</td>\n",
              "      <td>NaN</td>\n",
              "      <td>NaN</td>\n",
              "      <td>NaN</td>\n",
              "      <td>NaN</td>\n",
              "      <td>NaN</td>\n",
              "      <td>NaN</td>\n",
              "      <td>2 Valve</td>\n",
              "      <td>NaN</td>\n",
              "      <td>NaN</td>\n",
              "      <td>NaN</td>\n",
              "      <td>NaN</td>\n",
              "      <td>23.5</td>\n",
              "      <td>None or Unspecified</td>\n",
              "      <td>NaN</td>\n",
              "      <td>NaN</td>\n",
              "      <td>NaN</td>\n",
              "      <td>NaN</td>\n",
              "      <td>NaN</td>\n",
              "      <td>NaN</td>\n",
              "      <td>NaN</td>\n",
              "      <td>NaN</td>\n",
              "      <td>NaN</td>\n",
              "      <td>NaN</td>\n",
              "      <td>NaN</td>\n",
              "      <td>NaN</td>\n",
              "      <td>Standard</td>\n",
              "      <td>Conventional</td>\n",
              "    </tr>\n",
              "    <tr>\n",
              "      <th>2</th>\n",
              "      <td>1139249</td>\n",
              "      <td>10000</td>\n",
              "      <td>434808</td>\n",
              "      <td>7009</td>\n",
              "      <td>121</td>\n",
              "      <td>3</td>\n",
              "      <td>2001</td>\n",
              "      <td>2838.0</td>\n",
              "      <td>High</td>\n",
              "      <td>2/26/2004 0:00</td>\n",
              "      <td>226</td>\n",
              "      <td>226</td>\n",
              "      <td>NaN</td>\n",
              "      <td>NaN</td>\n",
              "      <td>NaN</td>\n",
              "      <td>NaN</td>\n",
              "      <td>Skid Steer Loader - 1351.0 to 1601.0 Lb Operat...</td>\n",
              "      <td>New York</td>\n",
              "      <td>SSL</td>\n",
              "      <td>Skid Steer Loaders</td>\n",
              "      <td>NaN</td>\n",
              "      <td>OROPS</td>\n",
              "      <td>None or Unspecified</td>\n",
              "      <td>NaN</td>\n",
              "      <td>NaN</td>\n",
              "      <td>NaN</td>\n",
              "      <td>NaN</td>\n",
              "      <td>NaN</td>\n",
              "      <td>NaN</td>\n",
              "      <td>NaN</td>\n",
              "      <td>NaN</td>\n",
              "      <td>NaN</td>\n",
              "      <td>Auxiliary</td>\n",
              "      <td>NaN</td>\n",
              "      <td>NaN</td>\n",
              "      <td>NaN</td>\n",
              "      <td>NaN</td>\n",
              "      <td>NaN</td>\n",
              "      <td>None or Unspecified</td>\n",
              "      <td>None or Unspecified</td>\n",
              "      <td>None or Unspecified</td>\n",
              "      <td>Standard</td>\n",
              "      <td>NaN</td>\n",
              "      <td>NaN</td>\n",
              "      <td>NaN</td>\n",
              "      <td>NaN</td>\n",
              "      <td>NaN</td>\n",
              "      <td>NaN</td>\n",
              "      <td>NaN</td>\n",
              "      <td>NaN</td>\n",
              "      <td>NaN</td>\n",
              "      <td>NaN</td>\n",
              "      <td>NaN</td>\n",
              "    </tr>\n",
              "    <tr>\n",
              "      <th>3</th>\n",
              "      <td>1139251</td>\n",
              "      <td>38500</td>\n",
              "      <td>1026470</td>\n",
              "      <td>332</td>\n",
              "      <td>121</td>\n",
              "      <td>3</td>\n",
              "      <td>2001</td>\n",
              "      <td>3486.0</td>\n",
              "      <td>High</td>\n",
              "      <td>5/19/2011 0:00</td>\n",
              "      <td>PC120-6E</td>\n",
              "      <td>PC120</td>\n",
              "      <td>NaN</td>\n",
              "      <td>-6E</td>\n",
              "      <td>NaN</td>\n",
              "      <td>Small</td>\n",
              "      <td>Hydraulic Excavator, Track - 12.0 to 14.0 Metr...</td>\n",
              "      <td>Texas</td>\n",
              "      <td>TEX</td>\n",
              "      <td>Track Excavators</td>\n",
              "      <td>NaN</td>\n",
              "      <td>EROPS w AC</td>\n",
              "      <td>NaN</td>\n",
              "      <td>NaN</td>\n",
              "      <td>NaN</td>\n",
              "      <td>NaN</td>\n",
              "      <td>NaN</td>\n",
              "      <td>NaN</td>\n",
              "      <td>NaN</td>\n",
              "      <td>NaN</td>\n",
              "      <td>NaN</td>\n",
              "      <td>NaN</td>\n",
              "      <td>2 Valve</td>\n",
              "      <td>NaN</td>\n",
              "      <td>NaN</td>\n",
              "      <td>NaN</td>\n",
              "      <td>NaN</td>\n",
              "      <td>NaN</td>\n",
              "      <td>None or Unspecified</td>\n",
              "      <td>NaN</td>\n",
              "      <td>NaN</td>\n",
              "      <td>NaN</td>\n",
              "      <td>NaN</td>\n",
              "      <td>NaN</td>\n",
              "      <td>NaN</td>\n",
              "      <td>NaN</td>\n",
              "      <td>NaN</td>\n",
              "      <td>NaN</td>\n",
              "      <td>NaN</td>\n",
              "      <td>NaN</td>\n",
              "      <td>NaN</td>\n",
              "      <td>NaN</td>\n",
              "      <td>NaN</td>\n",
              "    </tr>\n",
              "    <tr>\n",
              "      <th>4</th>\n",
              "      <td>1139253</td>\n",
              "      <td>11000</td>\n",
              "      <td>1057373</td>\n",
              "      <td>17311</td>\n",
              "      <td>121</td>\n",
              "      <td>3</td>\n",
              "      <td>2007</td>\n",
              "      <td>722.0</td>\n",
              "      <td>Medium</td>\n",
              "      <td>7/23/2009 0:00</td>\n",
              "      <td>S175</td>\n",
              "      <td>S175</td>\n",
              "      <td>NaN</td>\n",
              "      <td>NaN</td>\n",
              "      <td>NaN</td>\n",
              "      <td>NaN</td>\n",
              "      <td>Skid Steer Loader - 1601.0 to 1751.0 Lb Operat...</td>\n",
              "      <td>New York</td>\n",
              "      <td>SSL</td>\n",
              "      <td>Skid Steer Loaders</td>\n",
              "      <td>NaN</td>\n",
              "      <td>EROPS</td>\n",
              "      <td>None or Unspecified</td>\n",
              "      <td>NaN</td>\n",
              "      <td>NaN</td>\n",
              "      <td>NaN</td>\n",
              "      <td>NaN</td>\n",
              "      <td>NaN</td>\n",
              "      <td>NaN</td>\n",
              "      <td>NaN</td>\n",
              "      <td>NaN</td>\n",
              "      <td>NaN</td>\n",
              "      <td>Auxiliary</td>\n",
              "      <td>NaN</td>\n",
              "      <td>NaN</td>\n",
              "      <td>NaN</td>\n",
              "      <td>NaN</td>\n",
              "      <td>NaN</td>\n",
              "      <td>None or Unspecified</td>\n",
              "      <td>None or Unspecified</td>\n",
              "      <td>None or Unspecified</td>\n",
              "      <td>Standard</td>\n",
              "      <td>NaN</td>\n",
              "      <td>NaN</td>\n",
              "      <td>NaN</td>\n",
              "      <td>NaN</td>\n",
              "      <td>NaN</td>\n",
              "      <td>NaN</td>\n",
              "      <td>NaN</td>\n",
              "      <td>NaN</td>\n",
              "      <td>NaN</td>\n",
              "      <td>NaN</td>\n",
              "      <td>NaN</td>\n",
              "    </tr>\n",
              "  </tbody>\n",
              "</table>\n",
              "</div>"
            ],
            "text/plain": [
              "   SalesID  SalePrice  ...  Differential_Type  Steering_Controls\n",
              "0  1139246      66000  ...           Standard       Conventional\n",
              "1  1139248      57000  ...           Standard       Conventional\n",
              "2  1139249      10000  ...                NaN                NaN\n",
              "3  1139251      38500  ...                NaN                NaN\n",
              "4  1139253      11000  ...                NaN                NaN\n",
              "\n",
              "[5 rows x 53 columns]"
            ]
          },
          "metadata": {
            "tags": []
          },
          "execution_count": 16
        }
      ]
    },
    {
      "cell_type": "code",
      "metadata": {
        "id": "1NalTzR-bhs8",
        "colab_type": "code",
        "colab": {}
      },
      "source": [
        "#choose the non NaN columns:\n",
        "# 5 feature: YearMade, MachineHoursCurrentMeter, fiBaseModel, state, ProductGroup\n",
        "x=data[[]]"
      ],
      "execution_count": 0,
      "outputs": []
    },
    {
      "cell_type": "code",
      "metadata": {
        "id": "4IMohWy4cBvA",
        "colab_type": "code",
        "colab": {}
      },
      "source": [
        "# number features: YearMade, MachineHoursCurrentMeter\n",
        "# categorical features: fiBaseModel, state, ProductGroup"
      ],
      "execution_count": 0,
      "outputs": []
    },
    {
      "cell_type": "code",
      "metadata": {
        "id": "FzqgUwdrOopS",
        "colab_type": "code",
        "colab": {
          "base_uri": "https://localhost:8080/",
          "height": 935
        },
        "outputId": "c8d3a985-b889-439d-f05a-3f22e946b565"
      },
      "source": [
        "# check NaN\n",
        "data.isna().sum()"
      ],
      "execution_count": 18,
      "outputs": [
        {
          "output_type": "execute_result",
          "data": {
            "text/plain": [
              "SalesID                         0\n",
              "SalePrice                       0\n",
              "MachineID                       0\n",
              "ModelID                         0\n",
              "datasource                      0\n",
              "auctioneerID                    0\n",
              "YearMade                        0\n",
              "MachineHoursCurrentMeter    25441\n",
              "UsageBand                   28367\n",
              "saledate                        0\n",
              "fiModelDesc                     0\n",
              "fiBaseModel                     0\n",
              "fiSecondaryDesc             15965\n",
              "fiModelSeries               46834\n",
              "fiModelDescriptor           43682\n",
              "ProductSize                 35692\n",
              "fiProductClassDesc              0\n",
              "state                           0\n",
              "ProductGroup                    0\n",
              "ProductGroupDesc                0\n",
              "Drive_System                30216\n",
              "Enclosure                      19\n",
              "Forks                       16220\n",
              "Pad_Type                    31712\n",
              "Ride_Control                25198\n",
              "Stick                       31712\n",
              "Transmission                23730\n",
              "Turbocharged                31712\n",
              "Blade_Extension             49164\n",
              "Blade_Width                 49164\n",
              "Enclosure_Type              49164\n",
              "Engine_Horsepower           49164\n",
              "Hydraulics                  19011\n",
              "Pushblock                   49164\n",
              "Ripper                      42682\n",
              "Scarifier                   49164\n",
              "Tip_Control                 49164\n",
              "Tire_Size                   42656\n",
              "Coupler                     27077\n",
              "Coupler_System              41671\n",
              "Grouser_Tracks              41687\n",
              "Hydraulics_Flow             41687\n",
              "Track_Type                  42634\n",
              "Undercarriage_Pad_Width     42611\n",
              "Stick_Length                42633\n",
              "Thumb                       42630\n",
              "Pattern_Changer             42633\n",
              "Grouser_Type                42634\n",
              "Backhoe_Mounting            44185\n",
              "Blade_Type                  44140\n",
              "Travel_Controls             44141\n",
              "Differential_Type           44149\n",
              "Steering_Controls           44150\n",
              "dtype: int64"
            ]
          },
          "metadata": {
            "tags": []
          },
          "execution_count": 18
        }
      ]
    },
    {
      "cell_type": "code",
      "metadata": {
        "id": "bV5CwKK2OopO",
        "colab_type": "code",
        "colab": {
          "base_uri": "https://localhost:8080/",
          "height": 297
        },
        "outputId": "80974b9a-ce92-4b8e-9b5a-3015372a982e"
      },
      "source": [
        "data.describe()"
      ],
      "execution_count": 17,
      "outputs": [
        {
          "output_type": "execute_result",
          "data": {
            "text/html": [
              "<div>\n",
              "<style scoped>\n",
              "    .dataframe tbody tr th:only-of-type {\n",
              "        vertical-align: middle;\n",
              "    }\n",
              "\n",
              "    .dataframe tbody tr th {\n",
              "        vertical-align: top;\n",
              "    }\n",
              "\n",
              "    .dataframe thead th {\n",
              "        text-align: right;\n",
              "    }\n",
              "</style>\n",
              "<table border=\"1\" class=\"dataframe\">\n",
              "  <thead>\n",
              "    <tr style=\"text-align: right;\">\n",
              "      <th></th>\n",
              "      <th>SalesID</th>\n",
              "      <th>SalePrice</th>\n",
              "      <th>MachineID</th>\n",
              "      <th>ModelID</th>\n",
              "      <th>datasource</th>\n",
              "      <th>auctioneerID</th>\n",
              "      <th>YearMade</th>\n",
              "      <th>MachineHoursCurrentMeter</th>\n",
              "    </tr>\n",
              "  </thead>\n",
              "  <tbody>\n",
              "    <tr>\n",
              "      <th>count</th>\n",
              "      <td>5.065700e+04</td>\n",
              "      <td>50657.000000</td>\n",
              "      <td>5.065700e+04</td>\n",
              "      <td>50657.000000</td>\n",
              "      <td>50657.000000</td>\n",
              "      <td>50657.000000</td>\n",
              "      <td>50657.000000</td>\n",
              "      <td>25216.000000</td>\n",
              "    </tr>\n",
              "    <tr>\n",
              "      <th>mean</th>\n",
              "      <td>1.229284e+06</td>\n",
              "      <td>26267.308368</td>\n",
              "      <td>1.090624e+06</td>\n",
              "      <td>6389.144126</td>\n",
              "      <td>126.794125</td>\n",
              "      <td>5.714077</td>\n",
              "      <td>1878.254358</td>\n",
              "      <td>4569.298382</td>\n",
              "    </tr>\n",
              "    <tr>\n",
              "      <th>std</th>\n",
              "      <td>5.051891e+04</td>\n",
              "      <td>20374.901765</td>\n",
              "      <td>3.360440e+05</td>\n",
              "      <td>5976.399599</td>\n",
              "      <td>5.492184</td>\n",
              "      <td>13.656670</td>\n",
              "      <td>321.497301</td>\n",
              "      <td>5942.254184</td>\n",
              "    </tr>\n",
              "    <tr>\n",
              "      <th>min</th>\n",
              "      <td>1.139246e+06</td>\n",
              "      <td>4750.000000</td>\n",
              "      <td>3.230000e+02</td>\n",
              "      <td>28.000000</td>\n",
              "      <td>121.000000</td>\n",
              "      <td>1.000000</td>\n",
              "      <td>1000.000000</td>\n",
              "      <td>0.000000</td>\n",
              "    </tr>\n",
              "    <tr>\n",
              "      <th>25%</th>\n",
              "      <td>1.180746e+06</td>\n",
              "      <td>12500.000000</td>\n",
              "      <td>1.019123e+06</td>\n",
              "      <td>3170.000000</td>\n",
              "      <td>121.000000</td>\n",
              "      <td>2.000000</td>\n",
              "      <td>1987.000000</td>\n",
              "      <td>960.750000</td>\n",
              "    </tr>\n",
              "    <tr>\n",
              "      <th>50%</th>\n",
              "      <td>1.252590e+06</td>\n",
              "      <td>19500.000000</td>\n",
              "      <td>1.090508e+06</td>\n",
              "      <td>3417.000000</td>\n",
              "      <td>132.000000</td>\n",
              "      <td>3.000000</td>\n",
              "      <td>1996.000000</td>\n",
              "      <td>2631.000000</td>\n",
              "    </tr>\n",
              "    <tr>\n",
              "      <th>75%</th>\n",
              "      <td>1.276152e+06</td>\n",
              "      <td>32000.000000</td>\n",
              "      <td>1.324881e+06</td>\n",
              "      <td>6797.000000</td>\n",
              "      <td>132.000000</td>\n",
              "      <td>3.000000</td>\n",
              "      <td>2002.000000</td>\n",
              "      <td>6291.250000</td>\n",
              "    </tr>\n",
              "    <tr>\n",
              "      <th>max</th>\n",
              "      <td>1.293344e+06</td>\n",
              "      <td>142000.000000</td>\n",
              "      <td>1.558285e+06</td>\n",
              "      <td>37198.000000</td>\n",
              "      <td>132.000000</td>\n",
              "      <td>99.000000</td>\n",
              "      <td>2010.000000</td>\n",
              "      <td>220893.000000</td>\n",
              "    </tr>\n",
              "  </tbody>\n",
              "</table>\n",
              "</div>"
            ],
            "text/plain": [
              "            SalesID      SalePrice  ...      YearMade  MachineHoursCurrentMeter\n",
              "count  5.065700e+04   50657.000000  ...  50657.000000              25216.000000\n",
              "mean   1.229284e+06   26267.308368  ...   1878.254358               4569.298382\n",
              "std    5.051891e+04   20374.901765  ...    321.497301               5942.254184\n",
              "min    1.139246e+06    4750.000000  ...   1000.000000                  0.000000\n",
              "25%    1.180746e+06   12500.000000  ...   1987.000000                960.750000\n",
              "50%    1.252590e+06   19500.000000  ...   1996.000000               2631.000000\n",
              "75%    1.276152e+06   32000.000000  ...   2002.000000               6291.250000\n",
              "max    1.293344e+06  142000.000000  ...   2010.000000             220893.000000\n",
              "\n",
              "[8 rows x 8 columns]"
            ]
          },
          "metadata": {
            "tags": []
          },
          "execution_count": 17
        }
      ]
    },
    {
      "cell_type": "code",
      "metadata": {
        "id": "BIb5Qvn2OopU",
        "colab_type": "code",
        "colab": {
          "base_uri": "https://localhost:8080/",
          "height": 34
        },
        "outputId": "66bff441-9772-4b30-e50c-d92797267be0"
      },
      "source": [
        "data.shape"
      ],
      "execution_count": 19,
      "outputs": [
        {
          "output_type": "execute_result",
          "data": {
            "text/plain": [
              "(50657, 53)"
            ]
          },
          "metadata": {
            "tags": []
          },
          "execution_count": 19
        }
      ]
    },
    {
      "cell_type": "code",
      "metadata": {
        "id": "sXTV9uANOopY",
        "colab_type": "code",
        "colab": {
          "base_uri": "https://localhost:8080/",
          "height": 935
        },
        "outputId": "737e1088-728e-41bb-f6d9-b05e5a04ef47"
      },
      "source": [
        "data.dtypes"
      ],
      "execution_count": 20,
      "outputs": [
        {
          "output_type": "execute_result",
          "data": {
            "text/plain": [
              "SalesID                       int64\n",
              "SalePrice                     int64\n",
              "MachineID                     int64\n",
              "ModelID                       int64\n",
              "datasource                    int64\n",
              "auctioneerID                  int64\n",
              "YearMade                      int64\n",
              "MachineHoursCurrentMeter    float64\n",
              "UsageBand                    object\n",
              "saledate                     object\n",
              "fiModelDesc                  object\n",
              "fiBaseModel                  object\n",
              "fiSecondaryDesc              object\n",
              "fiModelSeries                object\n",
              "fiModelDescriptor            object\n",
              "ProductSize                  object\n",
              "fiProductClassDesc           object\n",
              "state                        object\n",
              "ProductGroup                 object\n",
              "ProductGroupDesc             object\n",
              "Drive_System                 object\n",
              "Enclosure                    object\n",
              "Forks                        object\n",
              "Pad_Type                     object\n",
              "Ride_Control                 object\n",
              "Stick                        object\n",
              "Transmission                 object\n",
              "Turbocharged                 object\n",
              "Blade_Extension              object\n",
              "Blade_Width                  object\n",
              "Enclosure_Type               object\n",
              "Engine_Horsepower            object\n",
              "Hydraulics                   object\n",
              "Pushblock                    object\n",
              "Ripper                       object\n",
              "Scarifier                    object\n",
              "Tip_Control                  object\n",
              "Tire_Size                    object\n",
              "Coupler                      object\n",
              "Coupler_System               object\n",
              "Grouser_Tracks               object\n",
              "Hydraulics_Flow              object\n",
              "Track_Type                   object\n",
              "Undercarriage_Pad_Width      object\n",
              "Stick_Length                 object\n",
              "Thumb                        object\n",
              "Pattern_Changer              object\n",
              "Grouser_Type                 object\n",
              "Backhoe_Mounting             object\n",
              "Blade_Type                   object\n",
              "Travel_Controls              object\n",
              "Differential_Type            object\n",
              "Steering_Controls            object\n",
              "dtype: object"
            ]
          },
          "metadata": {
            "tags": []
          },
          "execution_count": 20
        }
      ]
    },
    {
      "cell_type": "code",
      "metadata": {
        "id": "DB7sK-APOopc",
        "colab_type": "code",
        "colab": {
          "base_uri": "https://localhost:8080/",
          "height": 34
        },
        "outputId": "a272c486-e179-4c7f-8e1a-a8f31ac7d184"
      },
      "source": [
        "len(set(data['ModelID']))"
      ],
      "execution_count": 21,
      "outputs": [
        {
          "output_type": "execute_result",
          "data": {
            "text/plain": [
              "2531"
            ]
          },
          "metadata": {
            "tags": []
          },
          "execution_count": 21
        }
      ]
    },
    {
      "cell_type": "code",
      "metadata": {
        "id": "kc7RE9qzOopg",
        "colab_type": "code",
        "colab": {
          "base_uri": "https://localhost:8080/",
          "height": 34
        },
        "outputId": "7a1426d0-ff1f-4d2e-f6ba-67d2a2993181"
      },
      "source": [
        "len(set(data['ProductGroup']))"
      ],
      "execution_count": 22,
      "outputs": [
        {
          "output_type": "execute_result",
          "data": {
            "text/plain": [
              "6"
            ]
          },
          "metadata": {
            "tags": []
          },
          "execution_count": 22
        }
      ]
    },
    {
      "cell_type": "code",
      "metadata": {
        "id": "cKwuKt2jOopk",
        "colab_type": "code",
        "colab": {
          "base_uri": "https://localhost:8080/",
          "height": 34
        },
        "outputId": "bcd2dd7d-15e1-4cee-9d8d-b1db065413fc"
      },
      "source": [
        "len(set(data['SalePrice']))"
      ],
      "execution_count": 23,
      "outputs": [
        {
          "output_type": "execute_result",
          "data": {
            "text/plain": [
              "496"
            ]
          },
          "metadata": {
            "tags": []
          },
          "execution_count": 23
        }
      ]
    },
    {
      "cell_type": "code",
      "metadata": {
        "id": "6PgU0LkSOopo",
        "colab_type": "code",
        "colab": {
          "base_uri": "https://localhost:8080/",
          "height": 286
        },
        "outputId": "c8593286-e1d3-43f6-b69f-357ddb805954"
      },
      "source": [
        "\n",
        "plt.scatter(data['ModelID'],data['SalePrice'])\n",
        "# %matplotlib inline"
      ],
      "execution_count": 24,
      "outputs": [
        {
          "output_type": "execute_result",
          "data": {
            "text/plain": [
              "<matplotlib.collections.PathCollection at 0x7f450ffd8588>"
            ]
          },
          "metadata": {
            "tags": []
          },
          "execution_count": 24
        },
        {
          "output_type": "display_data",
          "data": {
            "image/png": "[encoded data removed]",
            "text/plain": [
              "<Figure size 432x288 with 1 Axes>"
            ]
          },
          "metadata": {
            "tags": []
          }
        }
      ]
    },
    {
      "cell_type": "code",
      "metadata": {
        "id": "6k4X7thGOopr",
        "colab_type": "code",
        "colab": {
          "base_uri": "https://localhost:8080/",
          "height": 297
        },
        "outputId": "fd6366ad-a2a7-4ab0-8f54-6c5aee85208c"
      },
      "source": [
        "data.corr()"
      ],
      "execution_count": 25,
      "outputs": [
        {
          "output_type": "execute_result",
          "data": {
            "text/html": [
              "<div>\n",
              "<style scoped>\n",
              "    .dataframe tbody tr th:only-of-type {\n",
              "        vertical-align: middle;\n",
              "    }\n",
              "\n",
              "    .dataframe tbody tr th {\n",
              "        vertical-align: top;\n",
              "    }\n",
              "\n",
              "    .dataframe thead th {\n",
              "        text-align: right;\n",
              "    }\n",
              "</style>\n",
              "<table border=\"1\" class=\"dataframe\">\n",
              "  <thead>\n",
              "    <tr style=\"text-align: right;\">\n",
              "      <th></th>\n",
              "      <th>SalesID</th>\n",
              "      <th>SalePrice</th>\n",
              "      <th>MachineID</th>\n",
              "      <th>ModelID</th>\n",
              "      <th>datasource</th>\n",
              "      <th>auctioneerID</th>\n",
              "      <th>YearMade</th>\n",
              "      <th>MachineHoursCurrentMeter</th>\n",
              "    </tr>\n",
              "  </thead>\n",
              "  <tbody>\n",
              "    <tr>\n",
              "      <th>SalesID</th>\n",
              "      <td>1.000000</td>\n",
              "      <td>-0.303624</td>\n",
              "      <td>0.626438</td>\n",
              "      <td>-0.283642</td>\n",
              "      <td>0.926428</td>\n",
              "      <td>0.160544</td>\n",
              "      <td>0.135644</td>\n",
              "      <td>0.015269</td>\n",
              "    </tr>\n",
              "    <tr>\n",
              "      <th>SalePrice</th>\n",
              "      <td>-0.303624</td>\n",
              "      <td>1.000000</td>\n",
              "      <td>-0.335922</td>\n",
              "      <td>0.122622</td>\n",
              "      <td>-0.352780</td>\n",
              "      <td>-0.104885</td>\n",
              "      <td>0.032295</td>\n",
              "      <td>0.217966</td>\n",
              "    </tr>\n",
              "    <tr>\n",
              "      <th>MachineID</th>\n",
              "      <td>0.626438</td>\n",
              "      <td>-0.335922</td>\n",
              "      <td>1.000000</td>\n",
              "      <td>-0.089194</td>\n",
              "      <td>0.660306</td>\n",
              "      <td>0.124312</td>\n",
              "      <td>0.039749</td>\n",
              "      <td>-0.036402</td>\n",
              "    </tr>\n",
              "    <tr>\n",
              "      <th>ModelID</th>\n",
              "      <td>-0.283642</td>\n",
              "      <td>0.122622</td>\n",
              "      <td>-0.089194</td>\n",
              "      <td>1.000000</td>\n",
              "      <td>-0.308168</td>\n",
              "      <td>-0.071149</td>\n",
              "      <td>0.092196</td>\n",
              "      <td>-0.159984</td>\n",
              "    </tr>\n",
              "    <tr>\n",
              "      <th>datasource</th>\n",
              "      <td>0.926428</td>\n",
              "      <td>-0.352780</td>\n",
              "      <td>0.660306</td>\n",
              "      <td>-0.308168</td>\n",
              "      <td>1.000000</td>\n",
              "      <td>0.188380</td>\n",
              "      <td>0.166701</td>\n",
              "      <td>-0.058477</td>\n",
              "    </tr>\n",
              "    <tr>\n",
              "      <th>auctioneerID</th>\n",
              "      <td>0.160544</td>\n",
              "      <td>-0.104885</td>\n",
              "      <td>0.124312</td>\n",
              "      <td>-0.071149</td>\n",
              "      <td>0.188380</td>\n",
              "      <td>1.000000</td>\n",
              "      <td>0.016417</td>\n",
              "      <td>-0.013521</td>\n",
              "    </tr>\n",
              "    <tr>\n",
              "      <th>YearMade</th>\n",
              "      <td>0.135644</td>\n",
              "      <td>0.032295</td>\n",
              "      <td>0.039749</td>\n",
              "      <td>0.092196</td>\n",
              "      <td>0.166701</td>\n",
              "      <td>0.016417</td>\n",
              "      <td>1.000000</td>\n",
              "      <td>-0.213701</td>\n",
              "    </tr>\n",
              "    <tr>\n",
              "      <th>MachineHoursCurrentMeter</th>\n",
              "      <td>0.015269</td>\n",
              "      <td>0.217966</td>\n",
              "      <td>-0.036402</td>\n",
              "      <td>-0.159984</td>\n",
              "      <td>-0.058477</td>\n",
              "      <td>-0.013521</td>\n",
              "      <td>-0.213701</td>\n",
              "      <td>1.000000</td>\n",
              "    </tr>\n",
              "  </tbody>\n",
              "</table>\n",
              "</div>"
            ],
            "text/plain": [
              "                           SalesID  ...  MachineHoursCurrentMeter\n",
              "SalesID                   1.000000  ...                  0.015269\n",
              "SalePrice                -0.303624  ...                  0.217966\n",
              "MachineID                 0.626438  ...                 -0.036402\n",
              "ModelID                  -0.283642  ...                 -0.159984\n",
              "datasource                0.926428  ...                 -0.058477\n",
              "auctioneerID              0.160544  ...                 -0.013521\n",
              "YearMade                  0.135644  ...                 -0.213701\n",
              "MachineHoursCurrentMeter  0.015269  ...                  1.000000\n",
              "\n",
              "[8 rows x 8 columns]"
            ]
          },
          "metadata": {
            "tags": []
          },
          "execution_count": 25
        }
      ]
    },
    {
      "cell_type": "code",
      "metadata": {
        "id": "eWoAUvnDOopv",
        "colab_type": "code",
        "colab": {
          "base_uri": "https://localhost:8080/",
          "height": 451
        },
        "outputId": "d387fc05-4632-481d-f88d-e22f58aa7426"
      },
      "source": [
        "data.hist()"
      ],
      "execution_count": 26,
      "outputs": [
        {
          "output_type": "execute_result",
          "data": {
            "text/plain": [
              "array([[<matplotlib.axes._subplots.AxesSubplot object at 0x7f450ffbfe48>,\n",
              "        <matplotlib.axes._subplots.AxesSubplot object at 0x7f450ff3be80>,\n",
              "        <matplotlib.axes._subplots.AxesSubplot object at 0x7f450ff6c128>],\n",
              "       [<matplotlib.axes._subplots.AxesSubplot object at 0x7f450ff14630>,\n",
              "        <matplotlib.axes._subplots.AxesSubplot object at 0x7f450febaba8>,\n",
              "        <matplotlib.axes._subplots.AxesSubplot object at 0x7f450feea160>],\n",
              "       [<matplotlib.axes._subplots.AxesSubplot object at 0x7f450fe916d8>,\n",
              "        <matplotlib.axes._subplots.AxesSubplot object at 0x7f450fe39c88>,\n",
              "        <matplotlib.axes._subplots.AxesSubplot object at 0x7f450fe39cc0>]],\n",
              "      dtype=object)"
            ]
          },
          "metadata": {
            "tags": []
          },
          "execution_count": 26
        },
        {
          "output_type": "display_data",
          "data": {
            "image/png": "[encoded data removed]",
            "text/plain": [
              "<Figure size 432x288 with 9 Axes>"
            ]
          },
          "metadata": {
            "tags": []
          }
        }
      ]
    },
    {
      "cell_type": "markdown",
      "metadata": {
        "id": "dRmuLRfeOopy",
        "colab_type": "text"
      },
      "source": [
        "## HOMEWORK"
      ]
    },
    {
      "cell_type": "code",
      "metadata": {
        "id": "y-tauBpqOopz",
        "colab_type": "code",
        "colab": {
          "base_uri": "https://localhost:8080/",
          "height": 255
        },
        "outputId": "fcb8f521-3468-49bb-f2d5-e94b18fcbc29"
      },
      "source": [
        "#Pick up 5 features in order to build a linear regression and tell the performance\n",
        "# SalePrice\n",
        "# 5 feature: YearMade, MachineHoursCurrentMeter, Enclosure, state, ProductGroup\n",
        "#validation file\n",
        "x=data[['SalePrice','SalesID','YearMade', 'MachineHoursCurrentMeter', 'Enclosure', 'state', 'ProductGroup']]\n",
        "y_t=x[['SalesID','SalePrice']]\n",
        "print(x.head())\n",
        "print(y_t.head())"
      ],
      "execution_count": 186,
      "outputs": [
        {
          "output_type": "stream",
          "text": [
            "   SalePrice  SalesID  YearMade  ...   Enclosure           state ProductGroup\n",
            "0      66000  1139246      2004  ...  EROPS w AC         Alabama           WL\n",
            "1      57000  1139248      1996  ...  EROPS w AC  North Carolina           WL\n",
            "2      10000  1139249      2001  ...       OROPS        New York          SSL\n",
            "3      38500  1139251      2001  ...  EROPS w AC           Texas          TEX\n",
            "4      11000  1139253      2007  ...       EROPS        New York          SSL\n",
            "\n",
            "[5 rows x 7 columns]\n",
            "   SalesID  SalePrice\n",
            "0  1139246      66000\n",
            "1  1139248      57000\n",
            "2  1139249      10000\n",
            "3  1139251      38500\n",
            "4  1139253      11000\n"
          ],
          "name": "stdout"
        }
      ]
    },
    {
      "cell_type": "code",
      "metadata": {
        "id": "PU69Vr0neBQf",
        "colab_type": "code",
        "colab": {
          "base_uri": "https://localhost:8080/",
          "height": 476
        },
        "outputId": "6fc98a2a-7cae-4859-b544-7ce3a736921e"
      },
      "source": [
        "print(set(x['Enclosure']))\n",
        "Enclosure=x.groupby(['Enclosure'])['SalesID'].count()\n",
        "print(Enclosure.head())\n",
        "\n",
        "# OROPS\n",
        "#fill nan from x['Enclosure'] to 'OROPS'.\n",
        "import numpy as np\n",
        "x['Enclosure'] = x['Enclosure'].replace(np.nan, 'OROPS')\n",
        "\n",
        "#fill nan from fil['MachineHoursCurrentMeter'] to 0.\n",
        "x['MachineHoursCurrentMeter'] = x['MachineHoursCurrentMeter'].replace(np.nan, 0)\n",
        "print(x.isna().sum())\n",
        "print(list(set(x['Enclosure'])))\n"
      ],
      "execution_count": 187,
      "outputs": [
        {
          "output_type": "stream",
          "text": [
            "{'OROPS', 'EROPS w AC', 'EROPS', nan}\n",
            "Enclosure\n",
            "EROPS         12854\n",
            "EROPS w AC    10398\n",
            "OROPS         27386\n",
            "Name: SalesID, dtype: int64\n",
            "SalePrice                   0\n",
            "SalesID                     0\n",
            "YearMade                    0\n",
            "MachineHoursCurrentMeter    0\n",
            "Enclosure                   0\n",
            "state                       0\n",
            "ProductGroup                0\n",
            "dtype: int64\n",
            "['OROPS', 'EROPS w AC', 'EROPS']\n"
          ],
          "name": "stdout"
        },
        {
          "output_type": "stream",
          "text": [
            "/usr/local/lib/python3.6/dist-packages/ipykernel_launcher.py:8: SettingWithCopyWarning: \n",
            "A value is trying to be set on a copy of a slice from a DataFrame.\n",
            "Try using .loc[row_indexer,col_indexer] = value instead\n",
            "\n",
            "See the caveats in the documentation: http://pandas.pydata.org/pandas-docs/stable/indexing.html#indexing-view-versus-copy\n",
            "  \n",
            "/usr/local/lib/python3.6/dist-packages/ipykernel_launcher.py:11: SettingWithCopyWarning: \n",
            "A value is trying to be set on a copy of a slice from a DataFrame.\n",
            "Try using .loc[row_indexer,col_indexer] = value instead\n",
            "\n",
            "See the caveats in the documentation: http://pandas.pydata.org/pandas-docs/stable/indexing.html#indexing-view-versus-copy\n",
            "  # This is added back by InteractiveShellApp.init_path()\n"
          ],
          "name": "stderr"
        }
      ]
    },
    {
      "cell_type": "code",
      "metadata": {
        "id": "i-VWepg2feV-",
        "colab_type": "code",
        "colab": {
          "base_uri": "https://localhost:8080/",
          "height": 71
        },
        "outputId": "9fd0c242-4477-453e-ae1b-91d3a51c59a9"
      },
      "source": [
        "# state\n",
        "print(len(set(x['state'])))\n",
        "print(set(x['state']))"
      ],
      "execution_count": 177,
      "outputs": [
        {
          "output_type": "stream",
          "text": [
            "53\n",
            "{'New Jersey', 'New Hampshire', 'Alabama', 'Wisconsin', 'California', 'Kansas', 'Minnesota', 'South Dakota', 'Washington DC', 'Oregon', 'Arizona', 'Iowa', 'North Carolina', 'Virginia', 'Alaska', 'Hawaii', 'Mississippi', 'Michigan', 'Washington', 'Massachusetts', 'Idaho', 'Georgia', 'Wyoming', 'Missouri', 'Kentucky', 'Connecticut', 'West Virginia', 'Louisiana', 'Nevada', 'Maryland', 'Oklahoma', 'Colorado', 'Nebraska', 'Texas', 'Delaware', 'Puerto Rico', 'Tennessee', 'South Carolina', 'Vermont', 'Maine', 'Arkansas', 'Montana', 'Florida', 'Ohio', 'North Dakota', 'New Mexico', 'Illinois', 'New York', 'Unspecified', 'Utah', 'Rhode Island', 'Indiana', 'Pennsylvania'}\n"
          ],
          "name": "stdout"
        }
      ]
    },
    {
      "cell_type": "code",
      "metadata": {
        "id": "uzE9h9LjgCUE",
        "colab_type": "code",
        "colab": {
          "base_uri": "https://localhost:8080/",
          "height": 51
        },
        "outputId": "89ca31e5-a8d8-4835-8fe5-dce0843a6748"
      },
      "source": [
        "# ProductGroup\n",
        "print(len(set(x['ProductGroup'])))\n",
        "print(set(x['ProductGroup']))"
      ],
      "execution_count": 178,
      "outputs": [
        {
          "output_type": "stream",
          "text": [
            "6\n",
            "{'BL', 'WL', 'TTT', 'TEX', 'MG', 'SSL'}\n"
          ],
          "name": "stdout"
        }
      ]
    },
    {
      "cell_type": "code",
      "metadata": {
        "id": "tl43GwBmYtru",
        "colab_type": "code",
        "colab": {
          "base_uri": "https://localhost:8080/",
          "height": 669
        },
        "outputId": "a449d92a-72d3-4708-e6ea-fd3086d470ec"
      },
      "source": [
        "# 5 feature: YearMade, MachineHoursCurrentMeter, Enclosure, state, ProductGroup\n",
        "x.head(20)"
      ],
      "execution_count": 179,
      "outputs": [
        {
          "output_type": "execute_result",
          "data": {
            "text/html": [
              "<div>\n",
              "<style scoped>\n",
              "    .dataframe tbody tr th:only-of-type {\n",
              "        vertical-align: middle;\n",
              "    }\n",
              "\n",
              "    .dataframe tbody tr th {\n",
              "        vertical-align: top;\n",
              "    }\n",
              "\n",
              "    .dataframe thead th {\n",
              "        text-align: right;\n",
              "    }\n",
              "</style>\n",
              "<table border=\"1\" class=\"dataframe\">\n",
              "  <thead>\n",
              "    <tr style=\"text-align: right;\">\n",
              "      <th></th>\n",
              "      <th>SalePrice</th>\n",
              "      <th>SalesID</th>\n",
              "      <th>YearMade</th>\n",
              "      <th>MachineHoursCurrentMeter</th>\n",
              "      <th>Enclosure</th>\n",
              "      <th>state</th>\n",
              "      <th>ProductGroup</th>\n",
              "    </tr>\n",
              "  </thead>\n",
              "  <tbody>\n",
              "    <tr>\n",
              "      <th>0</th>\n",
              "      <td>66000</td>\n",
              "      <td>1139246</td>\n",
              "      <td>2004</td>\n",
              "      <td>68.0</td>\n",
              "      <td>EROPS w AC</td>\n",
              "      <td>Alabama</td>\n",
              "      <td>WL</td>\n",
              "    </tr>\n",
              "    <tr>\n",
              "      <th>1</th>\n",
              "      <td>57000</td>\n",
              "      <td>1139248</td>\n",
              "      <td>1996</td>\n",
              "      <td>4640.0</td>\n",
              "      <td>EROPS w AC</td>\n",
              "      <td>North Carolina</td>\n",
              "      <td>WL</td>\n",
              "    </tr>\n",
              "    <tr>\n",
              "      <th>2</th>\n",
              "      <td>10000</td>\n",
              "      <td>1139249</td>\n",
              "      <td>2001</td>\n",
              "      <td>2838.0</td>\n",
              "      <td>OROPS</td>\n",
              "      <td>New York</td>\n",
              "      <td>SSL</td>\n",
              "    </tr>\n",
              "    <tr>\n",
              "      <th>3</th>\n",
              "      <td>38500</td>\n",
              "      <td>1139251</td>\n",
              "      <td>2001</td>\n",
              "      <td>3486.0</td>\n",
              "      <td>EROPS w AC</td>\n",
              "      <td>Texas</td>\n",
              "      <td>TEX</td>\n",
              "    </tr>\n",
              "    <tr>\n",
              "      <th>4</th>\n",
              "      <td>11000</td>\n",
              "      <td>1139253</td>\n",
              "      <td>2007</td>\n",
              "      <td>722.0</td>\n",
              "      <td>EROPS</td>\n",
              "      <td>New York</td>\n",
              "      <td>SSL</td>\n",
              "    </tr>\n",
              "    <tr>\n",
              "      <th>5</th>\n",
              "      <td>26500</td>\n",
              "      <td>1139255</td>\n",
              "      <td>2004</td>\n",
              "      <td>508.0</td>\n",
              "      <td>OROPS</td>\n",
              "      <td>Arizona</td>\n",
              "      <td>BL</td>\n",
              "    </tr>\n",
              "    <tr>\n",
              "      <th>6</th>\n",
              "      <td>21000</td>\n",
              "      <td>1139256</td>\n",
              "      <td>1993</td>\n",
              "      <td>11540.0</td>\n",
              "      <td>EROPS</td>\n",
              "      <td>Florida</td>\n",
              "      <td>TEX</td>\n",
              "    </tr>\n",
              "    <tr>\n",
              "      <th>7</th>\n",
              "      <td>27000</td>\n",
              "      <td>1139261</td>\n",
              "      <td>2001</td>\n",
              "      <td>4883.0</td>\n",
              "      <td>OROPS</td>\n",
              "      <td>Illinois</td>\n",
              "      <td>BL</td>\n",
              "    </tr>\n",
              "    <tr>\n",
              "      <th>8</th>\n",
              "      <td>21500</td>\n",
              "      <td>1139272</td>\n",
              "      <td>2008</td>\n",
              "      <td>302.0</td>\n",
              "      <td>EROPS</td>\n",
              "      <td>Texas</td>\n",
              "      <td>TEX</td>\n",
              "    </tr>\n",
              "    <tr>\n",
              "      <th>9</th>\n",
              "      <td>65000</td>\n",
              "      <td>1139275</td>\n",
              "      <td>1000</td>\n",
              "      <td>20700.0</td>\n",
              "      <td>EROPS w AC</td>\n",
              "      <td>Florida</td>\n",
              "      <td>WL</td>\n",
              "    </tr>\n",
              "    <tr>\n",
              "      <th>10</th>\n",
              "      <td>24000</td>\n",
              "      <td>1139278</td>\n",
              "      <td>2004</td>\n",
              "      <td>1414.0</td>\n",
              "      <td>OROPS</td>\n",
              "      <td>Oregon</td>\n",
              "      <td>BL</td>\n",
              "    </tr>\n",
              "    <tr>\n",
              "      <th>11</th>\n",
              "      <td>22500</td>\n",
              "      <td>1139282</td>\n",
              "      <td>1998</td>\n",
              "      <td>2764.0</td>\n",
              "      <td>EROPS w AC</td>\n",
              "      <td>Ohio</td>\n",
              "      <td>TTT</td>\n",
              "    </tr>\n",
              "    <tr>\n",
              "      <th>12</th>\n",
              "      <td>36000</td>\n",
              "      <td>1139283</td>\n",
              "      <td>1998</td>\n",
              "      <td>0.0</td>\n",
              "      <td>EROPS</td>\n",
              "      <td>Ohio</td>\n",
              "      <td>TEX</td>\n",
              "    </tr>\n",
              "    <tr>\n",
              "      <th>13</th>\n",
              "      <td>30500</td>\n",
              "      <td>1139284</td>\n",
              "      <td>2001</td>\n",
              "      <td>1921.0</td>\n",
              "      <td>OROPS</td>\n",
              "      <td>Texas</td>\n",
              "      <td>BL</td>\n",
              "    </tr>\n",
              "    <tr>\n",
              "      <th>14</th>\n",
              "      <td>28000</td>\n",
              "      <td>1139290</td>\n",
              "      <td>2004</td>\n",
              "      <td>320.0</td>\n",
              "      <td>OROPS</td>\n",
              "      <td>North Carolina</td>\n",
              "      <td>BL</td>\n",
              "    </tr>\n",
              "    <tr>\n",
              "      <th>15</th>\n",
              "      <td>19000</td>\n",
              "      <td>1139291</td>\n",
              "      <td>1999</td>\n",
              "      <td>2450.0</td>\n",
              "      <td>OROPS</td>\n",
              "      <td>Arkansas</td>\n",
              "      <td>BL</td>\n",
              "    </tr>\n",
              "    <tr>\n",
              "      <th>16</th>\n",
              "      <td>13500</td>\n",
              "      <td>1139292</td>\n",
              "      <td>1999</td>\n",
              "      <td>1972.0</td>\n",
              "      <td>EROPS</td>\n",
              "      <td>Florida</td>\n",
              "      <td>TEX</td>\n",
              "    </tr>\n",
              "    <tr>\n",
              "      <th>17</th>\n",
              "      <td>9500</td>\n",
              "      <td>1139299</td>\n",
              "      <td>2003</td>\n",
              "      <td>0.0</td>\n",
              "      <td>EROPS</td>\n",
              "      <td>Wisconsin</td>\n",
              "      <td>TEX</td>\n",
              "    </tr>\n",
              "    <tr>\n",
              "      <th>18</th>\n",
              "      <td>12500</td>\n",
              "      <td>1139301</td>\n",
              "      <td>2001</td>\n",
              "      <td>994.0</td>\n",
              "      <td>EROPS</td>\n",
              "      <td>North Carolina</td>\n",
              "      <td>TEX</td>\n",
              "    </tr>\n",
              "    <tr>\n",
              "      <th>19</th>\n",
              "      <td>11500</td>\n",
              "      <td>1139304</td>\n",
              "      <td>1991</td>\n",
              "      <td>8005.0</td>\n",
              "      <td>EROPS</td>\n",
              "      <td>Illinois</td>\n",
              "      <td>BL</td>\n",
              "    </tr>\n",
              "  </tbody>\n",
              "</table>\n",
              "</div>"
            ],
            "text/plain": [
              "    SalePrice  SalesID  YearMade  ...   Enclosure           state ProductGroup\n",
              "0       66000  1139246      2004  ...  EROPS w AC         Alabama           WL\n",
              "1       57000  1139248      1996  ...  EROPS w AC  North Carolina           WL\n",
              "2       10000  1139249      2001  ...       OROPS        New York          SSL\n",
              "3       38500  1139251      2001  ...  EROPS w AC           Texas          TEX\n",
              "4       11000  1139253      2007  ...       EROPS        New York          SSL\n",
              "5       26500  1139255      2004  ...       OROPS         Arizona           BL\n",
              "6       21000  1139256      1993  ...       EROPS         Florida          TEX\n",
              "7       27000  1139261      2001  ...       OROPS        Illinois           BL\n",
              "8       21500  1139272      2008  ...       EROPS           Texas          TEX\n",
              "9       65000  1139275      1000  ...  EROPS w AC         Florida           WL\n",
              "10      24000  1139278      2004  ...       OROPS          Oregon           BL\n",
              "11      22500  1139282      1998  ...  EROPS w AC            Ohio          TTT\n",
              "12      36000  1139283      1998  ...       EROPS            Ohio          TEX\n",
              "13      30500  1139284      2001  ...       OROPS           Texas           BL\n",
              "14      28000  1139290      2004  ...       OROPS  North Carolina           BL\n",
              "15      19000  1139291      1999  ...       OROPS        Arkansas           BL\n",
              "16      13500  1139292      1999  ...       EROPS         Florida          TEX\n",
              "17       9500  1139299      2003  ...       EROPS       Wisconsin          TEX\n",
              "18      12500  1139301      2001  ...       EROPS  North Carolina          TEX\n",
              "19      11500  1139304      1991  ...       EROPS        Illinois           BL\n",
              "\n",
              "[20 rows x 7 columns]"
            ]
          },
          "metadata": {
            "tags": []
          },
          "execution_count": 179
        }
      ]
    },
    {
      "cell_type": "code",
      "metadata": {
        "id": "MPatv-xshdgF",
        "colab_type": "code",
        "colab": {
          "base_uri": "https://localhost:8080/",
          "height": 1000
        },
        "outputId": "8613b9d9-d317-4364-a283-6a81a167ab1c"
      },
      "source": [
        "#encoding for Enclosure\n",
        "t=list(set(x['Enclosure']))\n",
        "x['Enclosure']=pd.DataFrame({'Enclosure': x['Enclosure']})\n",
        "x['Enclosure'] = x['Enclosure'].astype('category')\n",
        "x['Enclosure'] = x['Enclosure'].cat.reorder_categories(t, ordered=True)\n",
        "x['Enclosure'] = x['Enclosure'].cat.codes\n",
        "print(x[['Enclosure']].head())\n",
        "x.head(20)"
      ],
      "execution_count": 188,
      "outputs": [
        {
          "output_type": "stream",
          "text": [
            "/usr/local/lib/python3.6/dist-packages/ipykernel_launcher.py:2: SettingWithCopyWarning: \n",
            "A value is trying to be set on a copy of a slice from a DataFrame.\n",
            "Try using .loc[row_indexer,col_indexer] = value instead\n",
            "\n",
            "See the caveats in the documentation: http://pandas.pydata.org/pandas-docs/stable/indexing.html#indexing-view-versus-copy\n",
            "  \n",
            "/usr/local/lib/python3.6/dist-packages/ipykernel_launcher.py:3: SettingWithCopyWarning: \n",
            "A value is trying to be set on a copy of a slice from a DataFrame.\n",
            "Try using .loc[row_indexer,col_indexer] = value instead\n",
            "\n",
            "See the caveats in the documentation: http://pandas.pydata.org/pandas-docs/stable/indexing.html#indexing-view-versus-copy\n",
            "  This is separate from the ipykernel package so we can avoid doing imports until\n"
          ],
          "name": "stderr"
        },
        {
          "output_type": "stream",
          "text": [
            "   Enclosure\n",
            "0          1\n",
            "1          1\n",
            "2          0\n",
            "3          1\n",
            "4          2\n"
          ],
          "name": "stdout"
        },
        {
          "output_type": "stream",
          "text": [
            "/usr/local/lib/python3.6/dist-packages/ipykernel_launcher.py:4: SettingWithCopyWarning: \n",
            "A value is trying to be set on a copy of a slice from a DataFrame.\n",
            "Try using .loc[row_indexer,col_indexer] = value instead\n",
            "\n",
            "See the caveats in the documentation: http://pandas.pydata.org/pandas-docs/stable/indexing.html#indexing-view-versus-copy\n",
            "  after removing the cwd from sys.path.\n",
            "/usr/local/lib/python3.6/dist-packages/ipykernel_launcher.py:5: SettingWithCopyWarning: \n",
            "A value is trying to be set on a copy of a slice from a DataFrame.\n",
            "Try using .loc[row_indexer,col_indexer] = value instead\n",
            "\n",
            "See the caveats in the documentation: http://pandas.pydata.org/pandas-docs/stable/indexing.html#indexing-view-versus-copy\n",
            "  \"\"\"\n"
          ],
          "name": "stderr"
        },
        {
          "output_type": "execute_result",
          "data": {
            "text/html": [
              "<div>\n",
              "<style scoped>\n",
              "    .dataframe tbody tr th:only-of-type {\n",
              "        vertical-align: middle;\n",
              "    }\n",
              "\n",
              "    .dataframe tbody tr th {\n",
              "        vertical-align: top;\n",
              "    }\n",
              "\n",
              "    .dataframe thead th {\n",
              "        text-align: right;\n",
              "    }\n",
              "</style>\n",
              "<table border=\"1\" class=\"dataframe\">\n",
              "  <thead>\n",
              "    <tr style=\"text-align: right;\">\n",
              "      <th></th>\n",
              "      <th>SalePrice</th>\n",
              "      <th>SalesID</th>\n",
              "      <th>YearMade</th>\n",
              "      <th>MachineHoursCurrentMeter</th>\n",
              "      <th>Enclosure</th>\n",
              "      <th>state</th>\n",
              "      <th>ProductGroup</th>\n",
              "    </tr>\n",
              "  </thead>\n",
              "  <tbody>\n",
              "    <tr>\n",
              "      <th>0</th>\n",
              "      <td>66000</td>\n",
              "      <td>1139246</td>\n",
              "      <td>2004</td>\n",
              "      <td>68.0</td>\n",
              "      <td>1</td>\n",
              "      <td>Alabama</td>\n",
              "      <td>WL</td>\n",
              "    </tr>\n",
              "    <tr>\n",
              "      <th>1</th>\n",
              "      <td>57000</td>\n",
              "      <td>1139248</td>\n",
              "      <td>1996</td>\n",
              "      <td>4640.0</td>\n",
              "      <td>1</td>\n",
              "      <td>North Carolina</td>\n",
              "      <td>WL</td>\n",
              "    </tr>\n",
              "    <tr>\n",
              "      <th>2</th>\n",
              "      <td>10000</td>\n",
              "      <td>1139249</td>\n",
              "      <td>2001</td>\n",
              "      <td>2838.0</td>\n",
              "      <td>0</td>\n",
              "      <td>New York</td>\n",
              "      <td>SSL</td>\n",
              "    </tr>\n",
              "    <tr>\n",
              "      <th>3</th>\n",
              "      <td>38500</td>\n",
              "      <td>1139251</td>\n",
              "      <td>2001</td>\n",
              "      <td>3486.0</td>\n",
              "      <td>1</td>\n",
              "      <td>Texas</td>\n",
              "      <td>TEX</td>\n",
              "    </tr>\n",
              "    <tr>\n",
              "      <th>4</th>\n",
              "      <td>11000</td>\n",
              "      <td>1139253</td>\n",
              "      <td>2007</td>\n",
              "      <td>722.0</td>\n",
              "      <td>2</td>\n",
              "      <td>New York</td>\n",
              "      <td>SSL</td>\n",
              "    </tr>\n",
              "    <tr>\n",
              "      <th>5</th>\n",
              "      <td>26500</td>\n",
              "      <td>1139255</td>\n",
              "      <td>2004</td>\n",
              "      <td>508.0</td>\n",
              "      <td>0</td>\n",
              "      <td>Arizona</td>\n",
              "      <td>BL</td>\n",
              "    </tr>\n",
              "    <tr>\n",
              "      <th>6</th>\n",
              "      <td>21000</td>\n",
              "      <td>1139256</td>\n",
              "      <td>1993</td>\n",
              "      <td>11540.0</td>\n",
              "      <td>2</td>\n",
              "      <td>Florida</td>\n",
              "      <td>TEX</td>\n",
              "    </tr>\n",
              "    <tr>\n",
              "      <th>7</th>\n",
              "      <td>27000</td>\n",
              "      <td>1139261</td>\n",
              "      <td>2001</td>\n",
              "      <td>4883.0</td>\n",
              "      <td>0</td>\n",
              "      <td>Illinois</td>\n",
              "      <td>BL</td>\n",
              "    </tr>\n",
              "    <tr>\n",
              "      <th>8</th>\n",
              "      <td>21500</td>\n",
              "      <td>1139272</td>\n",
              "      <td>2008</td>\n",
              "      <td>302.0</td>\n",
              "      <td>2</td>\n",
              "      <td>Texas</td>\n",
              "      <td>TEX</td>\n",
              "    </tr>\n",
              "    <tr>\n",
              "      <th>9</th>\n",
              "      <td>65000</td>\n",
              "      <td>1139275</td>\n",
              "      <td>1000</td>\n",
              "      <td>20700.0</td>\n",
              "      <td>1</td>\n",
              "      <td>Florida</td>\n",
              "      <td>WL</td>\n",
              "    </tr>\n",
              "    <tr>\n",
              "      <th>10</th>\n",
              "      <td>24000</td>\n",
              "      <td>1139278</td>\n",
              "      <td>2004</td>\n",
              "      <td>1414.0</td>\n",
              "      <td>0</td>\n",
              "      <td>Oregon</td>\n",
              "      <td>BL</td>\n",
              "    </tr>\n",
              "    <tr>\n",
              "      <th>11</th>\n",
              "      <td>22500</td>\n",
              "      <td>1139282</td>\n",
              "      <td>1998</td>\n",
              "      <td>2764.0</td>\n",
              "      <td>1</td>\n",
              "      <td>Ohio</td>\n",
              "      <td>TTT</td>\n",
              "    </tr>\n",
              "    <tr>\n",
              "      <th>12</th>\n",
              "      <td>36000</td>\n",
              "      <td>1139283</td>\n",
              "      <td>1998</td>\n",
              "      <td>0.0</td>\n",
              "      <td>2</td>\n",
              "      <td>Ohio</td>\n",
              "      <td>TEX</td>\n",
              "    </tr>\n",
              "    <tr>\n",
              "      <th>13</th>\n",
              "      <td>30500</td>\n",
              "      <td>1139284</td>\n",
              "      <td>2001</td>\n",
              "      <td>1921.0</td>\n",
              "      <td>0</td>\n",
              "      <td>Texas</td>\n",
              "      <td>BL</td>\n",
              "    </tr>\n",
              "    <tr>\n",
              "      <th>14</th>\n",
              "      <td>28000</td>\n",
              "      <td>1139290</td>\n",
              "      <td>2004</td>\n",
              "      <td>320.0</td>\n",
              "      <td>0</td>\n",
              "      <td>North Carolina</td>\n",
              "      <td>BL</td>\n",
              "    </tr>\n",
              "    <tr>\n",
              "      <th>15</th>\n",
              "      <td>19000</td>\n",
              "      <td>1139291</td>\n",
              "      <td>1999</td>\n",
              "      <td>2450.0</td>\n",
              "      <td>0</td>\n",
              "      <td>Arkansas</td>\n",
              "      <td>BL</td>\n",
              "    </tr>\n",
              "    <tr>\n",
              "      <th>16</th>\n",
              "      <td>13500</td>\n",
              "      <td>1139292</td>\n",
              "      <td>1999</td>\n",
              "      <td>1972.0</td>\n",
              "      <td>2</td>\n",
              "      <td>Florida</td>\n",
              "      <td>TEX</td>\n",
              "    </tr>\n",
              "    <tr>\n",
              "      <th>17</th>\n",
              "      <td>9500</td>\n",
              "      <td>1139299</td>\n",
              "      <td>2003</td>\n",
              "      <td>0.0</td>\n",
              "      <td>2</td>\n",
              "      <td>Wisconsin</td>\n",
              "      <td>TEX</td>\n",
              "    </tr>\n",
              "    <tr>\n",
              "      <th>18</th>\n",
              "      <td>12500</td>\n",
              "      <td>1139301</td>\n",
              "      <td>2001</td>\n",
              "      <td>994.0</td>\n",
              "      <td>2</td>\n",
              "      <td>North Carolina</td>\n",
              "      <td>TEX</td>\n",
              "    </tr>\n",
              "    <tr>\n",
              "      <th>19</th>\n",
              "      <td>11500</td>\n",
              "      <td>1139304</td>\n",
              "      <td>1991</td>\n",
              "      <td>8005.0</td>\n",
              "      <td>2</td>\n",
              "      <td>Illinois</td>\n",
              "      <td>BL</td>\n",
              "    </tr>\n",
              "  </tbody>\n",
              "</table>\n",
              "</div>"
            ],
            "text/plain": [
              "    SalePrice  SalesID  YearMade  ...  Enclosure           state ProductGroup\n",
              "0       66000  1139246      2004  ...          1         Alabama           WL\n",
              "1       57000  1139248      1996  ...          1  North Carolina           WL\n",
              "2       10000  1139249      2001  ...          0        New York          SSL\n",
              "3       38500  1139251      2001  ...          1           Texas          TEX\n",
              "4       11000  1139253      2007  ...          2        New York          SSL\n",
              "5       26500  1139255      2004  ...          0         Arizona           BL\n",
              "6       21000  1139256      1993  ...          2         Florida          TEX\n",
              "7       27000  1139261      2001  ...          0        Illinois           BL\n",
              "8       21500  1139272      2008  ...          2           Texas          TEX\n",
              "9       65000  1139275      1000  ...          1         Florida           WL\n",
              "10      24000  1139278      2004  ...          0          Oregon           BL\n",
              "11      22500  1139282      1998  ...          1            Ohio          TTT\n",
              "12      36000  1139283      1998  ...          2            Ohio          TEX\n",
              "13      30500  1139284      2001  ...          0           Texas           BL\n",
              "14      28000  1139290      2004  ...          0  North Carolina           BL\n",
              "15      19000  1139291      1999  ...          0        Arkansas           BL\n",
              "16      13500  1139292      1999  ...          2         Florida          TEX\n",
              "17       9500  1139299      2003  ...          2       Wisconsin          TEX\n",
              "18      12500  1139301      2001  ...          2  North Carolina          TEX\n",
              "19      11500  1139304      1991  ...          2        Illinois           BL\n",
              "\n",
              "[20 rows x 7 columns]"
            ]
          },
          "metadata": {
            "tags": []
          },
          "execution_count": 188
        }
      ]
    },
    {
      "cell_type": "code",
      "metadata": {
        "id": "_khxFNCoolX9",
        "colab_type": "code",
        "colab": {
          "base_uri": "https://localhost:8080/",
          "height": 1000
        },
        "outputId": "63e1b0e7-5997-474c-af61-4058cb22b13e"
      },
      "source": [
        "#encoding for state\n",
        "t=list(set(x['state']))\n",
        "x['state']=pd.DataFrame({'state': x['state']})\n",
        "x['state'] = x['state'].astype('category')\n",
        "x['state'] = x['state'].cat.reorder_categories(t, ordered=True)\n",
        "x['state'] = x['state'].cat.codes\n",
        "print(x[['state']].head())\n",
        "x.head(20)"
      ],
      "execution_count": 189,
      "outputs": [
        {
          "output_type": "stream",
          "text": [
            "/usr/local/lib/python3.6/dist-packages/ipykernel_launcher.py:2: SettingWithCopyWarning: \n",
            "A value is trying to be set on a copy of a slice from a DataFrame.\n",
            "Try using .loc[row_indexer,col_indexer] = value instead\n",
            "\n",
            "See the caveats in the documentation: http://pandas.pydata.org/pandas-docs/stable/indexing.html#indexing-view-versus-copy\n",
            "  \n",
            "/usr/local/lib/python3.6/dist-packages/ipykernel_launcher.py:3: SettingWithCopyWarning: \n",
            "A value is trying to be set on a copy of a slice from a DataFrame.\n",
            "Try using .loc[row_indexer,col_indexer] = value instead\n",
            "\n",
            "See the caveats in the documentation: http://pandas.pydata.org/pandas-docs/stable/indexing.html#indexing-view-versus-copy\n",
            "  This is separate from the ipykernel package so we can avoid doing imports until\n"
          ],
          "name": "stderr"
        },
        {
          "output_type": "stream",
          "text": [
            "   state\n",
            "0      2\n",
            "1     12\n",
            "2     47\n",
            "3     33\n",
            "4     47\n"
          ],
          "name": "stdout"
        },
        {
          "output_type": "stream",
          "text": [
            "/usr/local/lib/python3.6/dist-packages/ipykernel_launcher.py:4: SettingWithCopyWarning: \n",
            "A value is trying to be set on a copy of a slice from a DataFrame.\n",
            "Try using .loc[row_indexer,col_indexer] = value instead\n",
            "\n",
            "See the caveats in the documentation: http://pandas.pydata.org/pandas-docs/stable/indexing.html#indexing-view-versus-copy\n",
            "  after removing the cwd from sys.path.\n",
            "/usr/local/lib/python3.6/dist-packages/ipykernel_launcher.py:5: SettingWithCopyWarning: \n",
            "A value is trying to be set on a copy of a slice from a DataFrame.\n",
            "Try using .loc[row_indexer,col_indexer] = value instead\n",
            "\n",
            "See the caveats in the documentation: http://pandas.pydata.org/pandas-docs/stable/indexing.html#indexing-view-versus-copy\n",
            "  \"\"\"\n"
          ],
          "name": "stderr"
        },
        {
          "output_type": "execute_result",
          "data": {
            "text/html": [
              "<div>\n",
              "<style scoped>\n",
              "    .dataframe tbody tr th:only-of-type {\n",
              "        vertical-align: middle;\n",
              "    }\n",
              "\n",
              "    .dataframe tbody tr th {\n",
              "        vertical-align: top;\n",
              "    }\n",
              "\n",
              "    .dataframe thead th {\n",
              "        text-align: right;\n",
              "    }\n",
              "</style>\n",
              "<table border=\"1\" class=\"dataframe\">\n",
              "  <thead>\n",
              "    <tr style=\"text-align: right;\">\n",
              "      <th></th>\n",
              "      <th>SalePrice</th>\n",
              "      <th>SalesID</th>\n",
              "      <th>YearMade</th>\n",
              "      <th>MachineHoursCurrentMeter</th>\n",
              "      <th>Enclosure</th>\n",
              "      <th>state</th>\n",
              "      <th>ProductGroup</th>\n",
              "    </tr>\n",
              "  </thead>\n",
              "  <tbody>\n",
              "    <tr>\n",
              "      <th>0</th>\n",
              "      <td>66000</td>\n",
              "      <td>1139246</td>\n",
              "      <td>2004</td>\n",
              "      <td>68.0</td>\n",
              "      <td>1</td>\n",
              "      <td>2</td>\n",
              "      <td>WL</td>\n",
              "    </tr>\n",
              "    <tr>\n",
              "      <th>1</th>\n",
              "      <td>57000</td>\n",
              "      <td>1139248</td>\n",
              "      <td>1996</td>\n",
              "      <td>4640.0</td>\n",
              "      <td>1</td>\n",
              "      <td>12</td>\n",
              "      <td>WL</td>\n",
              "    </tr>\n",
              "    <tr>\n",
              "      <th>2</th>\n",
              "      <td>10000</td>\n",
              "      <td>1139249</td>\n",
              "      <td>2001</td>\n",
              "      <td>2838.0</td>\n",
              "      <td>0</td>\n",
              "      <td>47</td>\n",
              "      <td>SSL</td>\n",
              "    </tr>\n",
              "    <tr>\n",
              "      <th>3</th>\n",
              "      <td>38500</td>\n",
              "      <td>1139251</td>\n",
              "      <td>2001</td>\n",
              "      <td>3486.0</td>\n",
              "      <td>1</td>\n",
              "      <td>33</td>\n",
              "      <td>TEX</td>\n",
              "    </tr>\n",
              "    <tr>\n",
              "      <th>4</th>\n",
              "      <td>11000</td>\n",
              "      <td>1139253</td>\n",
              "      <td>2007</td>\n",
              "      <td>722.0</td>\n",
              "      <td>2</td>\n",
              "      <td>47</td>\n",
              "      <td>SSL</td>\n",
              "    </tr>\n",
              "    <tr>\n",
              "      <th>5</th>\n",
              "      <td>26500</td>\n",
              "      <td>1139255</td>\n",
              "      <td>2004</td>\n",
              "      <td>508.0</td>\n",
              "      <td>0</td>\n",
              "      <td>10</td>\n",
              "      <td>BL</td>\n",
              "    </tr>\n",
              "    <tr>\n",
              "      <th>6</th>\n",
              "      <td>21000</td>\n",
              "      <td>1139256</td>\n",
              "      <td>1993</td>\n",
              "      <td>11540.0</td>\n",
              "      <td>2</td>\n",
              "      <td>42</td>\n",
              "      <td>TEX</td>\n",
              "    </tr>\n",
              "    <tr>\n",
              "      <th>7</th>\n",
              "      <td>27000</td>\n",
              "      <td>1139261</td>\n",
              "      <td>2001</td>\n",
              "      <td>4883.0</td>\n",
              "      <td>0</td>\n",
              "      <td>46</td>\n",
              "      <td>BL</td>\n",
              "    </tr>\n",
              "    <tr>\n",
              "      <th>8</th>\n",
              "      <td>21500</td>\n",
              "      <td>1139272</td>\n",
              "      <td>2008</td>\n",
              "      <td>302.0</td>\n",
              "      <td>2</td>\n",
              "      <td>33</td>\n",
              "      <td>TEX</td>\n",
              "    </tr>\n",
              "    <tr>\n",
              "      <th>9</th>\n",
              "      <td>65000</td>\n",
              "      <td>1139275</td>\n",
              "      <td>1000</td>\n",
              "      <td>20700.0</td>\n",
              "      <td>1</td>\n",
              "      <td>42</td>\n",
              "      <td>WL</td>\n",
              "    </tr>\n",
              "    <tr>\n",
              "      <th>10</th>\n",
              "      <td>24000</td>\n",
              "      <td>1139278</td>\n",
              "      <td>2004</td>\n",
              "      <td>1414.0</td>\n",
              "      <td>0</td>\n",
              "      <td>9</td>\n",
              "      <td>BL</td>\n",
              "    </tr>\n",
              "    <tr>\n",
              "      <th>11</th>\n",
              "      <td>22500</td>\n",
              "      <td>1139282</td>\n",
              "      <td>1998</td>\n",
              "      <td>2764.0</td>\n",
              "      <td>1</td>\n",
              "      <td>43</td>\n",
              "      <td>TTT</td>\n",
              "    </tr>\n",
              "    <tr>\n",
              "      <th>12</th>\n",
              "      <td>36000</td>\n",
              "      <td>1139283</td>\n",
              "      <td>1998</td>\n",
              "      <td>0.0</td>\n",
              "      <td>2</td>\n",
              "      <td>43</td>\n",
              "      <td>TEX</td>\n",
              "    </tr>\n",
              "    <tr>\n",
              "      <th>13</th>\n",
              "      <td>30500</td>\n",
              "      <td>1139284</td>\n",
              "      <td>2001</td>\n",
              "      <td>1921.0</td>\n",
              "      <td>0</td>\n",
              "      <td>33</td>\n",
              "      <td>BL</td>\n",
              "    </tr>\n",
              "    <tr>\n",
              "      <th>14</th>\n",
              "      <td>28000</td>\n",
              "      <td>1139290</td>\n",
              "      <td>2004</td>\n",
              "      <td>320.0</td>\n",
              "      <td>0</td>\n",
              "      <td>12</td>\n",
              "      <td>BL</td>\n",
              "    </tr>\n",
              "    <tr>\n",
              "      <th>15</th>\n",
              "      <td>19000</td>\n",
              "      <td>1139291</td>\n",
              "      <td>1999</td>\n",
              "      <td>2450.0</td>\n",
              "      <td>0</td>\n",
              "      <td>40</td>\n",
              "      <td>BL</td>\n",
              "    </tr>\n",
              "    <tr>\n",
              "      <th>16</th>\n",
              "      <td>13500</td>\n",
              "      <td>1139292</td>\n",
              "      <td>1999</td>\n",
              "      <td>1972.0</td>\n",
              "      <td>2</td>\n",
              "      <td>42</td>\n",
              "      <td>TEX</td>\n",
              "    </tr>\n",
              "    <tr>\n",
              "      <th>17</th>\n",
              "      <td>9500</td>\n",
              "      <td>1139299</td>\n",
              "      <td>2003</td>\n",
              "      <td>0.0</td>\n",
              "      <td>2</td>\n",
              "      <td>3</td>\n",
              "      <td>TEX</td>\n",
              "    </tr>\n",
              "    <tr>\n",
              "      <th>18</th>\n",
              "      <td>12500</td>\n",
              "      <td>1139301</td>\n",
              "      <td>2001</td>\n",
              "      <td>994.0</td>\n",
              "      <td>2</td>\n",
              "      <td>12</td>\n",
              "      <td>TEX</td>\n",
              "    </tr>\n",
              "    <tr>\n",
              "      <th>19</th>\n",
              "      <td>11500</td>\n",
              "      <td>1139304</td>\n",
              "      <td>1991</td>\n",
              "      <td>8005.0</td>\n",
              "      <td>2</td>\n",
              "      <td>46</td>\n",
              "      <td>BL</td>\n",
              "    </tr>\n",
              "  </tbody>\n",
              "</table>\n",
              "</div>"
            ],
            "text/plain": [
              "    SalePrice  SalesID  YearMade  ...  Enclosure  state  ProductGroup\n",
              "0       66000  1139246      2004  ...          1      2            WL\n",
              "1       57000  1139248      1996  ...          1     12            WL\n",
              "2       10000  1139249      2001  ...          0     47           SSL\n",
              "3       38500  1139251      2001  ...          1     33           TEX\n",
              "4       11000  1139253      2007  ...          2     47           SSL\n",
              "5       26500  1139255      2004  ...          0     10            BL\n",
              "6       21000  1139256      1993  ...          2     42           TEX\n",
              "7       27000  1139261      2001  ...          0     46            BL\n",
              "8       21500  1139272      2008  ...          2     33           TEX\n",
              "9       65000  1139275      1000  ...          1     42            WL\n",
              "10      24000  1139278      2004  ...          0      9            BL\n",
              "11      22500  1139282      1998  ...          1     43           TTT\n",
              "12      36000  1139283      1998  ...          2     43           TEX\n",
              "13      30500  1139284      2001  ...          0     33            BL\n",
              "14      28000  1139290      2004  ...          0     12            BL\n",
              "15      19000  1139291      1999  ...          0     40            BL\n",
              "16      13500  1139292      1999  ...          2     42           TEX\n",
              "17       9500  1139299      2003  ...          2      3           TEX\n",
              "18      12500  1139301      2001  ...          2     12           TEX\n",
              "19      11500  1139304      1991  ...          2     46            BL\n",
              "\n",
              "[20 rows x 7 columns]"
            ]
          },
          "metadata": {
            "tags": []
          },
          "execution_count": 189
        }
      ]
    },
    {
      "cell_type": "code",
      "metadata": {
        "id": "gG36IqQin6OR",
        "colab_type": "code",
        "colab": {
          "base_uri": "https://localhost:8080/",
          "height": 1000
        },
        "outputId": "9dbae244-dcd7-4331-bbf6-29a2f6211d7b"
      },
      "source": [
        "#encoding for ProductGroup\n",
        "t=list(set(x['ProductGroup']))\n",
        "x['ProductGroup']=pd.DataFrame({'ProductGroup': x['ProductGroup']})\n",
        "x['ProductGroup'] = x['ProductGroup'].astype('category')\n",
        "x['ProductGroup'] = x['ProductGroup'].cat.reorder_categories(t, ordered=True)\n",
        "x['ProductGroup'] = x['ProductGroup'].cat.codes\n",
        "print(x[['ProductGroup']].head())\n",
        "x.head(20)"
      ],
      "execution_count": 190,
      "outputs": [
        {
          "output_type": "stream",
          "text": [
            "/usr/local/lib/python3.6/dist-packages/ipykernel_launcher.py:2: SettingWithCopyWarning: \n",
            "A value is trying to be set on a copy of a slice from a DataFrame.\n",
            "Try using .loc[row_indexer,col_indexer] = value instead\n",
            "\n",
            "See the caveats in the documentation: http://pandas.pydata.org/pandas-docs/stable/indexing.html#indexing-view-versus-copy\n",
            "  \n",
            "/usr/local/lib/python3.6/dist-packages/ipykernel_launcher.py:3: SettingWithCopyWarning: \n",
            "A value is trying to be set on a copy of a slice from a DataFrame.\n",
            "Try using .loc[row_indexer,col_indexer] = value instead\n",
            "\n",
            "See the caveats in the documentation: http://pandas.pydata.org/pandas-docs/stable/indexing.html#indexing-view-versus-copy\n",
            "  This is separate from the ipykernel package so we can avoid doing imports until\n"
          ],
          "name": "stderr"
        },
        {
          "output_type": "stream",
          "text": [
            "   ProductGroup\n",
            "0             1\n",
            "1             1\n",
            "2             5\n",
            "3             3\n",
            "4             5\n"
          ],
          "name": "stdout"
        },
        {
          "output_type": "stream",
          "text": [
            "/usr/local/lib/python3.6/dist-packages/ipykernel_launcher.py:4: SettingWithCopyWarning: \n",
            "A value is trying to be set on a copy of a slice from a DataFrame.\n",
            "Try using .loc[row_indexer,col_indexer] = value instead\n",
            "\n",
            "See the caveats in the documentation: http://pandas.pydata.org/pandas-docs/stable/indexing.html#indexing-view-versus-copy\n",
            "  after removing the cwd from sys.path.\n",
            "/usr/local/lib/python3.6/dist-packages/ipykernel_launcher.py:5: SettingWithCopyWarning: \n",
            "A value is trying to be set on a copy of a slice from a DataFrame.\n",
            "Try using .loc[row_indexer,col_indexer] = value instead\n",
            "\n",
            "See the caveats in the documentation: http://pandas.pydata.org/pandas-docs/stable/indexing.html#indexing-view-versus-copy\n",
            "  \"\"\"\n"
          ],
          "name": "stderr"
        },
        {
          "output_type": "execute_result",
          "data": {
            "text/html": [
              "<div>\n",
              "<style scoped>\n",
              "    .dataframe tbody tr th:only-of-type {\n",
              "        vertical-align: middle;\n",
              "    }\n",
              "\n",
              "    .dataframe tbody tr th {\n",
              "        vertical-align: top;\n",
              "    }\n",
              "\n",
              "    .dataframe thead th {\n",
              "        text-align: right;\n",
              "    }\n",
              "</style>\n",
              "<table border=\"1\" class=\"dataframe\">\n",
              "  <thead>\n",
              "    <tr style=\"text-align: right;\">\n",
              "      <th></th>\n",
              "      <th>SalePrice</th>\n",
              "      <th>SalesID</th>\n",
              "      <th>YearMade</th>\n",
              "      <th>MachineHoursCurrentMeter</th>\n",
              "      <th>Enclosure</th>\n",
              "      <th>state</th>\n",
              "      <th>ProductGroup</th>\n",
              "    </tr>\n",
              "  </thead>\n",
              "  <tbody>\n",
              "    <tr>\n",
              "      <th>0</th>\n",
              "      <td>66000</td>\n",
              "      <td>1139246</td>\n",
              "      <td>2004</td>\n",
              "      <td>68.0</td>\n",
              "      <td>1</td>\n",
              "      <td>2</td>\n",
              "      <td>1</td>\n",
              "    </tr>\n",
              "    <tr>\n",
              "      <th>1</th>\n",
              "      <td>57000</td>\n",
              "      <td>1139248</td>\n",
              "      <td>1996</td>\n",
              "      <td>4640.0</td>\n",
              "      <td>1</td>\n",
              "      <td>12</td>\n",
              "      <td>1</td>\n",
              "    </tr>\n",
              "    <tr>\n",
              "      <th>2</th>\n",
              "      <td>10000</td>\n",
              "      <td>1139249</td>\n",
              "      <td>2001</td>\n",
              "      <td>2838.0</td>\n",
              "      <td>0</td>\n",
              "      <td>47</td>\n",
              "      <td>5</td>\n",
              "    </tr>\n",
              "    <tr>\n",
              "      <th>3</th>\n",
              "      <td>38500</td>\n",
              "      <td>1139251</td>\n",
              "      <td>2001</td>\n",
              "      <td>3486.0</td>\n",
              "      <td>1</td>\n",
              "      <td>33</td>\n",
              "      <td>3</td>\n",
              "    </tr>\n",
              "    <tr>\n",
              "      <th>4</th>\n",
              "      <td>11000</td>\n",
              "      <td>1139253</td>\n",
              "      <td>2007</td>\n",
              "      <td>722.0</td>\n",
              "      <td>2</td>\n",
              "      <td>47</td>\n",
              "      <td>5</td>\n",
              "    </tr>\n",
              "    <tr>\n",
              "      <th>5</th>\n",
              "      <td>26500</td>\n",
              "      <td>1139255</td>\n",
              "      <td>2004</td>\n",
              "      <td>508.0</td>\n",
              "      <td>0</td>\n",
              "      <td>10</td>\n",
              "      <td>0</td>\n",
              "    </tr>\n",
              "    <tr>\n",
              "      <th>6</th>\n",
              "      <td>21000</td>\n",
              "      <td>1139256</td>\n",
              "      <td>1993</td>\n",
              "      <td>11540.0</td>\n",
              "      <td>2</td>\n",
              "      <td>42</td>\n",
              "      <td>3</td>\n",
              "    </tr>\n",
              "    <tr>\n",
              "      <th>7</th>\n",
              "      <td>27000</td>\n",
              "      <td>1139261</td>\n",
              "      <td>2001</td>\n",
              "      <td>4883.0</td>\n",
              "      <td>0</td>\n",
              "      <td>46</td>\n",
              "      <td>0</td>\n",
              "    </tr>\n",
              "    <tr>\n",
              "      <th>8</th>\n",
              "      <td>21500</td>\n",
              "      <td>1139272</td>\n",
              "      <td>2008</td>\n",
              "      <td>302.0</td>\n",
              "      <td>2</td>\n",
              "      <td>33</td>\n",
              "      <td>3</td>\n",
              "    </tr>\n",
              "    <tr>\n",
              "      <th>9</th>\n",
              "      <td>65000</td>\n",
              "      <td>1139275</td>\n",
              "      <td>1000</td>\n",
              "      <td>20700.0</td>\n",
              "      <td>1</td>\n",
              "      <td>42</td>\n",
              "      <td>1</td>\n",
              "    </tr>\n",
              "    <tr>\n",
              "      <th>10</th>\n",
              "      <td>24000</td>\n",
              "      <td>1139278</td>\n",
              "      <td>2004</td>\n",
              "      <td>1414.0</td>\n",
              "      <td>0</td>\n",
              "      <td>9</td>\n",
              "      <td>0</td>\n",
              "    </tr>\n",
              "    <tr>\n",
              "      <th>11</th>\n",
              "      <td>22500</td>\n",
              "      <td>1139282</td>\n",
              "      <td>1998</td>\n",
              "      <td>2764.0</td>\n",
              "      <td>1</td>\n",
              "      <td>43</td>\n",
              "      <td>2</td>\n",
              "    </tr>\n",
              "    <tr>\n",
              "      <th>12</th>\n",
              "      <td>36000</td>\n",
              "      <td>1139283</td>\n",
              "      <td>1998</td>\n",
              "      <td>0.0</td>\n",
              "      <td>2</td>\n",
              "      <td>43</td>\n",
              "      <td>3</td>\n",
              "    </tr>\n",
              "    <tr>\n",
              "      <th>13</th>\n",
              "      <td>30500</td>\n",
              "      <td>1139284</td>\n",
              "      <td>2001</td>\n",
              "      <td>1921.0</td>\n",
              "      <td>0</td>\n",
              "      <td>33</td>\n",
              "      <td>0</td>\n",
              "    </tr>\n",
              "    <tr>\n",
              "      <th>14</th>\n",
              "      <td>28000</td>\n",
              "      <td>1139290</td>\n",
              "      <td>2004</td>\n",
              "      <td>320.0</td>\n",
              "      <td>0</td>\n",
              "      <td>12</td>\n",
              "      <td>0</td>\n",
              "    </tr>\n",
              "    <tr>\n",
              "      <th>15</th>\n",
              "      <td>19000</td>\n",
              "      <td>1139291</td>\n",
              "      <td>1999</td>\n",
              "      <td>2450.0</td>\n",
              "      <td>0</td>\n",
              "      <td>40</td>\n",
              "      <td>0</td>\n",
              "    </tr>\n",
              "    <tr>\n",
              "      <th>16</th>\n",
              "      <td>13500</td>\n",
              "      <td>1139292</td>\n",
              "      <td>1999</td>\n",
              "      <td>1972.0</td>\n",
              "      <td>2</td>\n",
              "      <td>42</td>\n",
              "      <td>3</td>\n",
              "    </tr>\n",
              "    <tr>\n",
              "      <th>17</th>\n",
              "      <td>9500</td>\n",
              "      <td>1139299</td>\n",
              "      <td>2003</td>\n",
              "      <td>0.0</td>\n",
              "      <td>2</td>\n",
              "      <td>3</td>\n",
              "      <td>3</td>\n",
              "    </tr>\n",
              "    <tr>\n",
              "      <th>18</th>\n",
              "      <td>12500</td>\n",
              "      <td>1139301</td>\n",
              "      <td>2001</td>\n",
              "      <td>994.0</td>\n",
              "      <td>2</td>\n",
              "      <td>12</td>\n",
              "      <td>3</td>\n",
              "    </tr>\n",
              "    <tr>\n",
              "      <th>19</th>\n",
              "      <td>11500</td>\n",
              "      <td>1139304</td>\n",
              "      <td>1991</td>\n",
              "      <td>8005.0</td>\n",
              "      <td>2</td>\n",
              "      <td>46</td>\n",
              "      <td>0</td>\n",
              "    </tr>\n",
              "  </tbody>\n",
              "</table>\n",
              "</div>"
            ],
            "text/plain": [
              "    SalePrice  SalesID  YearMade  ...  Enclosure  state  ProductGroup\n",
              "0       66000  1139246      2004  ...          1      2             1\n",
              "1       57000  1139248      1996  ...          1     12             1\n",
              "2       10000  1139249      2001  ...          0     47             5\n",
              "3       38500  1139251      2001  ...          1     33             3\n",
              "4       11000  1139253      2007  ...          2     47             5\n",
              "5       26500  1139255      2004  ...          0     10             0\n",
              "6       21000  1139256      1993  ...          2     42             3\n",
              "7       27000  1139261      2001  ...          0     46             0\n",
              "8       21500  1139272      2008  ...          2     33             3\n",
              "9       65000  1139275      1000  ...          1     42             1\n",
              "10      24000  1139278      2004  ...          0      9             0\n",
              "11      22500  1139282      1998  ...          1     43             2\n",
              "12      36000  1139283      1998  ...          2     43             3\n",
              "13      30500  1139284      2001  ...          0     33             0\n",
              "14      28000  1139290      2004  ...          0     12             0\n",
              "15      19000  1139291      1999  ...          0     40             0\n",
              "16      13500  1139292      1999  ...          2     42             3\n",
              "17       9500  1139299      2003  ...          2      3             3\n",
              "18      12500  1139301      2001  ...          2     12             3\n",
              "19      11500  1139304      1991  ...          2     46             0\n",
              "\n",
              "[20 rows x 7 columns]"
            ]
          },
          "metadata": {
            "tags": []
          },
          "execution_count": 190
        }
      ]
    },
    {
      "cell_type": "code",
      "metadata": {
        "id": "cUPPgCqhQr2G",
        "colab_type": "code",
        "colab": {
          "base_uri": "https://localhost:8080/",
          "height": 490
        },
        "outputId": "e33b51e0-0fec-4949-cb40-7721574062df"
      },
      "source": [
        "from sklearn import linear_model\n",
        "# from sklearn.model_selection import train_test_split\n",
        "cls = linear_model.LinearRegression()\n",
        "#Fit method is used for fitting your training data into the model\n",
        "# YearMade,\tMachineHoursCurrentMeter,\tEnclosure,\tstate,\tProductGroup\n",
        "y_t=x[['SalePrice']]\n",
        "x=x[['YearMade',\t'MachineHoursCurrentMeter',\t'Enclosure',\t'state',\t'ProductGroup']]\n",
        "\n",
        "print(x.head())\n",
        "print(y_t.head())\n",
        "\n",
        "# true plot before modeling\n",
        "\n",
        "plt.plot(x['YearMade'],y_t,c='b')\n",
        "plt.plot(x['MachineHoursCurrentMeter'],y_t,c='b')\n",
        "plt.plot(x['Enclosure'],y_t,c='b')\n",
        "plt.plot(x['state'],y_t,c='b')\n",
        "plt.plot(x['ProductGroup'],y_t,c='b')"
      ],
      "execution_count": 191,
      "outputs": [
        {
          "output_type": "stream",
          "text": [
            "   YearMade  MachineHoursCurrentMeter  Enclosure  state  ProductGroup\n",
            "0      2004                      68.0          1      2             1\n",
            "1      1996                    4640.0          1     12             1\n",
            "2      2001                    2838.0          0     47             5\n",
            "3      2001                    3486.0          1     33             3\n",
            "4      2007                     722.0          2     47             5\n",
            "   SalePrice\n",
            "0      66000\n",
            "1      57000\n",
            "2      10000\n",
            "3      38500\n",
            "4      11000\n"
          ],
          "name": "stdout"
        },
        {
          "output_type": "execute_result",
          "data": {
            "text/plain": [
              "[<matplotlib.lines.Line2D at 0x7f45029cfda0>]"
            ]
          },
          "metadata": {
            "tags": []
          },
          "execution_count": 191
        },
        {
          "output_type": "display_data",
          "data": {
            "image/png": "[encoded data removed]",
            "text/plain": [
              "<Figure size 432x288 with 1 Axes>"
            ]
          },
          "metadata": {
            "tags": []
          }
        }
      ]
    },
    {
      "cell_type": "code",
      "metadata": {
        "id": "MawBpSVNsggG",
        "colab_type": "code",
        "colab": {
          "base_uri": "https://localhost:8080/",
          "height": 286
        },
        "outputId": "ee51c147-e234-432b-ca8f-c14e50bbc5f7"
      },
      "source": [
        "fig,ax=plt.subplots(3,2)\n",
        "ax[0,0].scatter(x['YearMade'],y_t,c='b')\n",
        "ax[0,1].scatter(x['MachineHoursCurrentMeter'],y_t,c='g')\n",
        "\n",
        "ax[1,0].scatter(x['Enclosure'],y_t,c='b')\n",
        "ax[1,1].scatter(x['state'],y_t,c='g')\n",
        "\n",
        "ax[2,0].scatter(x['ProductGroup'],y_t,c='b')"
      ],
      "execution_count": 208,
      "outputs": [
        {
          "output_type": "execute_result",
          "data": {
            "text/plain": [
              "<matplotlib.collections.PathCollection at 0x7f450172be80>"
            ]
          },
          "metadata": {
            "tags": []
          },
          "execution_count": 208
        },
        {
          "output_type": "display_data",
          "data": {
            "image/png": "[encoded data removed]",
            "text/plain": [
              "<Figure size 432x288 with 6 Axes>"
            ]
          },
          "metadata": {
            "tags": []
          }
        }
      ]
    },
    {
      "cell_type": "code",
      "metadata": {
        "id": "hgNdR4J1Oop4",
        "colab_type": "code",
        "colab": {
          "base_uri": "https://localhost:8080/",
          "height": 68
        },
        "outputId": "0b11f09d-b889-4040-dce4-9d1cd260cc4c"
      },
      "source": [
        "cls.fit(x,y_t)\n",
        "cls.get_params()\n",
        "print('cls.coef_ = ',cls.coef_)\n",
        "print('cls.intercept_ = ',cls.intercept_)"
      ],
      "execution_count": 210,
      "outputs": [
        {
          "output_type": "stream",
          "text": [
            "cls.coef_ =  [[ 7.98904049e+00  1.44033268e+00  3.28347278e+03  7.91746120e-01\n",
            "  -2.31812889e+02]]\n",
            "cls.intercept_ =  [6057.85637987]\n"
          ],
          "name": "stdout"
        }
      ]
    },
    {
      "cell_type": "code",
      "metadata": {
        "id": "3XKo0o8hQxo4",
        "colab_type": "code",
        "colab": {
          "base_uri": "https://localhost:8080/",
          "height": 153
        },
        "outputId": "e458ee99-3947-4de3-d435-c7a0bde949eb"
      },
      "source": [
        "#Test on Test.csv\n",
        "p=r'/content/Test.csv'\n",
        "test=pd.read_csv(p)\n",
        "print(test.head())"
      ],
      "execution_count": 215,
      "outputs": [
        {
          "output_type": "stream",
          "text": [
            "   SalesID  MachineID  ...  Differential_Type  Steering_Controls\n",
            "0  1227829    1006309  ...                NaN                NaN\n",
            "1  1227844    1022817  ...           Standard       Conventional\n",
            "2  1227847    1031560  ...                NaN                NaN\n",
            "3  1227848      56204  ...                NaN                NaN\n",
            "4  1227863    1053887  ...                NaN                NaN\n",
            "\n",
            "[5 rows x 52 columns]\n"
          ],
          "name": "stdout"
        }
      ]
    },
    {
      "cell_type": "code",
      "metadata": {
        "id": "SNyTSFfZOop9",
        "colab_type": "code",
        "colab": {}
      },
      "source": [
        "\n",
        "#encoding for Enclosure\n",
        "t=list(set(test['Enclosure']))\n",
        "test['Enclosure']=pd.DataFrame({'Enclosure': test['Enclosure']})\n",
        "test['Enclosure'] = test['Enclosure'].astype('category')\n",
        "test['Enclosure'] = test['Enclosure'].cat.reorder_categories(t, ordered=True)\n",
        "test['Enclosure'] = test['Enclosure'].cat.codes\n",
        "\n",
        "#encoding for state\n",
        "t1=list(set(test['state']))\n",
        "test['state']=pd.DataFrame({'state': test['state']})\n",
        "test['state'] = test['state'].astype('category')\n",
        "test['state'] = test['state'].cat.reorder_categories(t1, ordered=True)\n",
        "test['state'] = test['state'].cat.codes\n",
        "\n",
        "#encoding for ProductGroup\n",
        "t2=list(set(test['ProductGroup']))\n",
        "test['ProductGroup']=pd.DataFrame({'ProductGroup': test['ProductGroup']})\n",
        "test['ProductGroup'] = test['ProductGroup'].astype('category')\n",
        "test['ProductGroup'] = test['ProductGroup'].cat.reorder_categories(t2, ordered=True)\n",
        "test['ProductGroup'] = test['ProductGroup'].cat.codes\n",
        "\n"
      ],
      "execution_count": 0,
      "outputs": []
    },
    {
      "cell_type": "code",
      "metadata": {
        "id": "xBUjEcI3yFZq",
        "colab_type": "code",
        "colab": {
          "base_uri": "https://localhost:8080/",
          "height": 317
        },
        "outputId": "60fed37c-e38e-4a13-8c2c-293f14eee65b"
      },
      "source": [
        "test.describe()"
      ],
      "execution_count": 224,
      "outputs": [
        {
          "output_type": "execute_result",
          "data": {
            "text/html": [
              "<div>\n",
              "<style scoped>\n",
              "    .dataframe tbody tr th:only-of-type {\n",
              "        vertical-align: middle;\n",
              "    }\n",
              "\n",
              "    .dataframe tbody tr th {\n",
              "        vertical-align: top;\n",
              "    }\n",
              "\n",
              "    .dataframe thead th {\n",
              "        text-align: right;\n",
              "    }\n",
              "</style>\n",
              "<table border=\"1\" class=\"dataframe\">\n",
              "  <thead>\n",
              "    <tr style=\"text-align: right;\">\n",
              "      <th></th>\n",
              "      <th>SalesID</th>\n",
              "      <th>MachineID</th>\n",
              "      <th>ModelID</th>\n",
              "      <th>datasource</th>\n",
              "      <th>auctioneerID</th>\n",
              "      <th>YearMade</th>\n",
              "      <th>MachineHoursCurrentMeter</th>\n",
              "      <th>state</th>\n",
              "      <th>ProductGroup</th>\n",
              "      <th>Enclosure</th>\n",
              "    </tr>\n",
              "  </thead>\n",
              "  <tbody>\n",
              "    <tr>\n",
              "      <th>count</th>\n",
              "      <td>1.245700e+04</td>\n",
              "      <td>1.245700e+04</td>\n",
              "      <td>12457.000000</td>\n",
              "      <td>12457.000000</td>\n",
              "      <td>12457.000000</td>\n",
              "      <td>12457.000000</td>\n",
              "      <td>2.129000e+03</td>\n",
              "      <td>12457.000000</td>\n",
              "      <td>12457.000000</td>\n",
              "      <td>12457.000000</td>\n",
              "    </tr>\n",
              "    <tr>\n",
              "      <th>mean</th>\n",
              "      <td>5.787463e+06</td>\n",
              "      <td>1.776368e+06</td>\n",
              "      <td>9221.484788</td>\n",
              "      <td>146.680019</td>\n",
              "      <td>11.924380</td>\n",
              "      <td>1868.981055</td>\n",
              "      <td>1.984678e+04</td>\n",
              "      <td>23.582323</td>\n",
              "      <td>2.728185</td>\n",
              "      <td>1.132777</td>\n",
              "    </tr>\n",
              "    <tr>\n",
              "      <th>std</th>\n",
              "      <td>1.470164e+06</td>\n",
              "      <td>7.589356e+05</td>\n",
              "      <td>7845.025382</td>\n",
              "      <td>14.158477</td>\n",
              "      <td>29.195676</td>\n",
              "      <td>338.095223</td>\n",
              "      <td>6.727711e+05</td>\n",
              "      <td>15.466203</td>\n",
              "      <td>1.638677</td>\n",
              "      <td>0.799927</td>\n",
              "    </tr>\n",
              "    <tr>\n",
              "      <th>min</th>\n",
              "      <td>1.227829e+06</td>\n",
              "      <td>2.110000e+02</td>\n",
              "      <td>28.000000</td>\n",
              "      <td>121.000000</td>\n",
              "      <td>0.000000</td>\n",
              "      <td>1000.000000</td>\n",
              "      <td>0.000000e+00</td>\n",
              "      <td>0.000000</td>\n",
              "      <td>0.000000</td>\n",
              "      <td>0.000000</td>\n",
              "    </tr>\n",
              "    <tr>\n",
              "      <th>25%</th>\n",
              "      <td>6.260703e+06</td>\n",
              "      <td>1.065286e+06</td>\n",
              "      <td>3380.000000</td>\n",
              "      <td>149.000000</td>\n",
              "      <td>1.000000</td>\n",
              "      <td>1994.000000</td>\n",
              "      <td>8.480000e+02</td>\n",
              "      <td>7.000000</td>\n",
              "      <td>2.000000</td>\n",
              "      <td>0.000000</td>\n",
              "    </tr>\n",
              "    <tr>\n",
              "      <th>50%</th>\n",
              "      <td>6.300886e+06</td>\n",
              "      <td>1.904657e+06</td>\n",
              "      <td>4886.000000</td>\n",
              "      <td>149.000000</td>\n",
              "      <td>1.000000</td>\n",
              "      <td>2002.000000</td>\n",
              "      <td>3.525000e+03</td>\n",
              "      <td>23.000000</td>\n",
              "      <td>3.000000</td>\n",
              "      <td>1.000000</td>\n",
              "    </tr>\n",
              "    <tr>\n",
              "      <th>75%</th>\n",
              "      <td>6.454946e+06</td>\n",
              "      <td>2.446075e+06</td>\n",
              "      <td>15474.000000</td>\n",
              "      <td>149.000000</td>\n",
              "      <td>3.000000</td>\n",
              "      <td>2005.000000</td>\n",
              "      <td>7.630000e+03</td>\n",
              "      <td>42.000000</td>\n",
              "      <td>4.000000</td>\n",
              "      <td>2.000000</td>\n",
              "    </tr>\n",
              "    <tr>\n",
              "      <th>max</th>\n",
              "      <td>6.643196e+06</td>\n",
              "      <td>2.558557e+06</td>\n",
              "      <td>36941.000000</td>\n",
              "      <td>172.000000</td>\n",
              "      <td>99.000000</td>\n",
              "      <td>2014.000000</td>\n",
              "      <td>3.104628e+07</td>\n",
              "      <td>50.000000</td>\n",
              "      <td>5.000000</td>\n",
              "      <td>3.000000</td>\n",
              "    </tr>\n",
              "  </tbody>\n",
              "</table>\n",
              "</div>"
            ],
            "text/plain": [
              "            SalesID     MachineID  ...  ProductGroup     Enclosure\n",
              "count  1.245700e+04  1.245700e+04  ...  12457.000000  12457.000000\n",
              "mean   5.787463e+06  1.776368e+06  ...      2.728185      1.132777\n",
              "std    1.470164e+06  7.589356e+05  ...      1.638677      0.799927\n",
              "min    1.227829e+06  2.110000e+02  ...      0.000000      0.000000\n",
              "25%    6.260703e+06  1.065286e+06  ...      2.000000      0.000000\n",
              "50%    6.300886e+06  1.904657e+06  ...      3.000000      1.000000\n",
              "75%    6.454946e+06  2.446075e+06  ...      4.000000      2.000000\n",
              "max    6.643196e+06  2.558557e+06  ...      5.000000      3.000000\n",
              "\n",
              "[8 rows x 10 columns]"
            ]
          },
          "metadata": {
            "tags": []
          },
          "execution_count": 224
        }
      ]
    },
    {
      "cell_type": "code",
      "metadata": {
        "id": "sNmz8yLKzeET",
        "colab_type": "code",
        "colab": {
          "base_uri": "https://localhost:8080/",
          "height": 119
        },
        "outputId": "99b05e5f-42f4-451b-db38-3bf56f622f6e"
      },
      "source": [
        "# 'YearMade',\t'MachineHoursCurrentMeter',\t'Enclosure',\t'state',\t'ProductGroup'\n",
        "\n",
        "#fill nan from fil['MachineHoursCurrentMeter'] to 0.\n",
        "test['MachineHoursCurrentMeter'] = test['MachineHoursCurrentMeter'].replace(np.nan, 0)\n",
        "\n",
        "print(test[['YearMade',\t'MachineHoursCurrentMeter',\t'Enclosure',\t'state',\t'ProductGroup']].isna().sum())"
      ],
      "execution_count": 234,
      "outputs": [
        {
          "output_type": "stream",
          "text": [
            "YearMade                    0\n",
            "MachineHoursCurrentMeter    0\n",
            "Enclosure                   0\n",
            "state                       0\n",
            "ProductGroup                0\n",
            "dtype: int64\n"
          ],
          "name": "stdout"
        }
      ]
    },
    {
      "cell_type": "code",
      "metadata": {
        "id": "FV97FFsexw4p",
        "colab_type": "code",
        "colab": {
          "base_uri": "https://localhost:8080/",
          "height": 153
        },
        "outputId": "717bfb4b-c907-4467-8b53-c1aced39760b"
      },
      "source": [
        "y_pred = cls.predict(test[['YearMade',\t'MachineHoursCurrentMeter',\t'Enclosure',\t'state',\t'ProductGroup']])\n",
        "test['y_pred']=y_pred\n",
        "print(test.head())\n",
        "path=r'/content/TestPredict.csv'\n",
        "test.to_csv(path)"
      ],
      "execution_count": 242,
      "outputs": [
        {
          "output_type": "stream",
          "text": [
            "   SalesID  MachineID  ...  Steering_Controls        y_pred\n",
            "0  1227829    1006309  ...                NaN  33946.428124\n",
            "1  1227844    1022817  ...       Conventional  54052.160776\n",
            "2  1227847    1031560  ...                NaN  33374.825273\n",
            "3  1227848      56204  ...                NaN  37570.648801\n",
            "4  1227863    1053887  ...                NaN  31013.719305\n",
            "\n",
            "[5 rows x 53 columns]\n"
          ],
          "name": "stdout"
        }
      ]
    },
    {
      "cell_type": "code",
      "metadata": {
        "id": "eGEKKsxa3h_2",
        "colab_type": "code",
        "colab": {
          "base_uri": "https://localhost:8080/",
          "height": 153
        },
        "outputId": "cbf2de95-57b7-4944-c6b0-ad007dbfc501"
      },
      "source": [
        "#Upload Valid.csv file and then Predict\n",
        "\n",
        "#Preparation for data\n",
        "\n",
        "#STEP1: Upload & Read the Valid.csv file\n",
        "p=r'/content/Valid.csv'\n",
        "valid=pd.read_csv(p)\n",
        "# print(valid.head())\n",
        "\n",
        "#STEP2: fillna with 0 for 'MachineHoursCurrentMeter' feature.\n",
        "#fill nan from fil['MachineHoursCurrentMeter'] to 0.\n",
        "valid['MachineHoursCurrentMeter'] = valid['MachineHoursCurrentMeter'].replace(np.nan, 0)\n",
        "valid['Enclosure'] = valid['Enclosure'].replace(np.nan, 'OROPS')\n",
        "# Check Nan for the features\n",
        "# print(valid[['YearMade',\t'MachineHoursCurrentMeter',\t'Enclosure',\t'state',\t'ProductGroup']].isna().sum())\n",
        "\n",
        "#STEP3: Modification the columns/features: \n",
        "#encoding for Enclosure\n",
        "t=list(set(valid['Enclosure']))\n",
        "valid['Enclosure']=pd.DataFrame({'Enclosure': valid['Enclosure']})\n",
        "valid['Enclosure'] = valid['Enclosure'].astype('category')\n",
        "valid['Enclosure'] = valid['Enclosure'].cat.reorder_categories(t, ordered=True)\n",
        "valid['Enclosure'] = valid['Enclosure'].cat.codes\n",
        "\n",
        "#encoding for state\n",
        "t1=list(set(valid['state']))\n",
        "valid['state']=pd.DataFrame({'state': valid['state']})\n",
        "valid['state'] = valid['state'].astype('category')\n",
        "valid['state'] = valid['state'].cat.reorder_categories(t1, ordered=True)\n",
        "valid['state'] = valid['state'].cat.codes\n",
        "\n",
        "#encoding for ProductGroup\n",
        "t2=list(set(valid['ProductGroup']))\n",
        "valid['ProductGroup']=pd.DataFrame({'ProductGroup': valid['ProductGroup']})\n",
        "valid['ProductGroup'] = valid['ProductGroup'].astype('category')\n",
        "valid['ProductGroup'] = valid['ProductGroup'].cat.reorder_categories(t2, ordered=True)\n",
        "valid['ProductGroup'] = valid['ProductGroup'].cat.codes\n",
        "\n",
        "#STEP4: Check Nan for the features\n",
        "# print(valid[['YearMade',\t'MachineHoursCurrentMeter',\t'Enclosure',\t'state',\t'ProductGroup']].isna().sum())\n",
        "\n",
        "# RUN PREDICTION\n",
        "y_pred = cls.predict(valid[['YearMade',\t'MachineHoursCurrentMeter',\t'Enclosure',\t'state',\t'ProductGroup']])\n",
        "valid['y_pred']=y_pred\n",
        "print(valid.head())\n",
        "path=r'/content/ValidPredict.csv'\n",
        "valid.to_csv(path)\n"
      ],
      "execution_count": 246,
      "outputs": [
        {
          "output_type": "stream",
          "text": [
            "   SalesID  MachineID  ...  Steering_Controls        y_pred\n",
            "0  1222837     902859  ...                NaN  19935.030430\n",
            "1  1222839    1048320  ...                NaN  31044.071934\n",
            "2  1222841     999308  ...                NaN  39227.638976\n",
            "3  1222843    1062425  ...                NaN  26679.459799\n",
            "4  1222845    1032841  ...       Conventional  37104.185948\n",
            "\n",
            "[5 rows x 53 columns]\n"
          ],
          "name": "stdout"
        }
      ]
    },
    {
      "cell_type": "code",
      "metadata": {
        "id": "fDJEwFDK6IMC",
        "colab_type": "code",
        "colab": {
          "base_uri": "https://localhost:8080/",
          "height": 374
        },
        "outputId": "6f5c248b-0170-434b-ec21-9c65495d1e88"
      },
      "source": [
        "#Compare the y_pred with ValidSolution\n",
        "p=r'/content/ValidSolution.csv'\n",
        "validSolution=pd.read_csv(p)\n",
        "# print(validSolution.head())\n",
        "validSolution['validPrediction']=y_pred\n",
        "validSolution[['error']]=validSolution[['SalePrice']]-y_pred\n",
        "print(validSolution.head(20))\n",
        "\n",
        "#save back the file\n",
        "path=r'/content/ValidPreSol.csv'\n",
        "validSolution.to_csv(path)"
      ],
      "execution_count": 252,
      "outputs": [
        {
          "output_type": "stream",
          "text": [
            "    SalesID  SalePrice       Usage  validPrediction         error\n",
            "0   1222837    31000.0  PublicTest     19935.030430  11064.969570\n",
            "1   1222839    54000.0  PublicTest     31044.071934  22955.928066\n",
            "2   1222841    26500.0  PublicTest     39227.638976 -12727.638976\n",
            "3   1222843    10000.0  PublicTest     26679.459799 -16679.459799\n",
            "4   1222845    35000.0  PublicTest     37104.185948  -2104.185948\n",
            "5   1222847     8000.0  PublicTest     20914.948314 -12914.948314\n",
            "6   1222849    33000.0  PublicTest     22849.364438  10150.635562\n",
            "7   1222850    33500.0  PublicTest     26405.545834   7094.454166\n",
            "8   1222855    66000.0  PublicTest     24881.241375  41118.758625\n",
            "9   1222863    25000.0  PublicTest     26231.408077  -1231.408077\n",
            "10  1222864    29000.0  PublicTest     31054.461232  -2054.461232\n",
            "11  1222865    39000.0  PublicTest     22589.862941  16410.137059\n",
            "12  1222867    65000.0  PublicTest     26911.108879  38088.891121\n",
            "13  1222879    28000.0  PublicTest     27081.036843    918.963157\n",
            "14  1222883    11500.0  PublicTest     30627.911423 -19127.911423\n",
            "15  1222905    45000.0  PublicTest     29919.287989  15080.712011\n",
            "16  1222908    83000.0  PublicTest     41967.993221  41032.006779\n",
            "17  1222910    30000.0  PublicTest     35318.301617  -5318.301617\n",
            "18  1222911    43000.0  PublicTest     30812.832646  12187.167354\n",
            "19  1222917    12000.0  PublicTest     20637.594812  -8637.594812\n"
          ],
          "name": "stdout"
        }
      ]
    }
  ]
}